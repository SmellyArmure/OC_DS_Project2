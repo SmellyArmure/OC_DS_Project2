{
 "cells": [
  {
   "cell_type": "markdown",
   "metadata": {},
   "source": [
    "# Projet 2 : Analyse des données de systèmes éducatifs\n",
    "\n",
    "## 0. Importations des modules et des données"
   ]
  },
  {
   "cell_type": "code",
   "execution_count": 796,
   "metadata": {},
   "outputs": [],
   "source": [
    "import pandas as pd\n",
    "import numpy as np\n",
    "import seaborn as sns\n",
    "import matplotlib.pyplot as plt\n",
    "% matplotlib inline\n",
    "#% matplotlib notebook\n",
    "# graphes interactifs\n",
    "import re\n",
    "from wordcloud import WordCloud, STOPWORDS\n",
    "from collections import Counter\n",
    "#import scipy.stats as st\n",
    "#import statsmodels.api as sm\n",
    "#from sklearn.datasets import load_iris\n",
    "#iris_df_ori = load_iris()\n",
    "\n",
    "####     A ESSAYER      #######################################################\n",
    "# GRAPHES INTERACTIFS\n",
    "\n",
    "\n",
    "# POUR LES GRAPHIQUES\n",
    "# % matplotlib inline \n",
    "# plt.rcParams['figure.figsize'] = [9.5, 6] # ajuster la taille\n",
    "\n",
    "# POUR DESACTIVER LA TOOLBOX GRAPHES TOP GRANDS\n",
    "# %%javascript\n",
    "# IPython.OutputArea.prototype._should_scroll = function(lines) {\n",
    "#     return false;\n",
    "# }\n"
   ]
  },
  {
   "cell_type": "markdown",
   "metadata": {},
   "source": [
    "L'ensemble des données téléchargées se compose de 5 fichiers .csv et d'un fichier excel comportant 5 onglets.\n",
    "Il semble que l'intégralité des données des fichiers .csv soit reprise dans chacun des onglets du fichier Excel.\n",
    "\n",
    "Dans ce notebook, on appellera \"base de donnée\" l'ensemble des données, et \"table\" chacun des onglets ou fichier .csv correspondant."
   ]
  },
  {
   "cell_type": "code",
   "execution_count": null,
   "metadata": {},
   "outputs": [],
   "source": [
    "# Utilisé la fonction dropna (colonne nulle) pour éliminer les colonnes fantômes \"Unamed en fin de tableau\"\n",
    "data = pd.read_csv(\"../DONNEES/EdStatsData.csv\").dropna(how='all', axis='columns')\n",
    "country = pd.read_csv(\"../DONNEES/EdStatsCountry.csv\").dropna(how='all', axis='columns')\n",
    "cnt_ser = pd.read_csv(\"../DONNEES/EdStatsCountry-Series.csv\").dropna(how='all', axis='columns')\n",
    "series = pd.read_csv(\"../DONNEES/EdStatsSeries.csv\").dropna(how='all', axis='columns')\n",
    "footnote = pd.read_csv(\"../DONNEES/EdStatsFootNote.csv\").dropna(how='all', axis='columns')"
   ]
  },
  {
   "cell_type": "markdown",
   "metadata": {},
   "source": [
    "## 1. Description globale des 5 tables"
   ]
  },
  {
   "cell_type": "code",
   "execution_count": null,
   "metadata": {},
   "outputs": [],
   "source": [
    "## Fonction qui extrait les données principales relatives aux colonnes\n",
    "\n",
    "def infos_df (df):\n",
    "    infos = pd.DataFrame(df.dtypes).T.rename(index={0:'Type'}) \n",
    "    infos = infos.append(pd.DataFrame([df[col].size for col in df.columns],index=df.columns)\\\n",
    "                               .T.rename(index={0:'Nbe lignes'}))\n",
    "    infos = infos.append(pd.DataFrame(df.isna().sum()).T.rename(index={0:'Nbe NaN'}))\n",
    "    infos = infos.append(pd.DataFrame(infos.loc[\"Nbe lignes\"]-infos.loc[\"Nbe NaN\"])\\\n",
    "                         .T.rename(index = {0:\"Nbe Entrées\"}))\n",
    "    infos = infos.append(pd.DataFrame(df.isna().sum()/df.shape[0]*100).T.rename(index={0:'% NaN'}))\n",
    "    infos = infos.append(pd.DataFrame([df[col].unique().size for col in df.columns],index=df.columns)\\\n",
    "                               .T.rename(index={0:'Nbe uniques'}))\n",
    "    return infos"
   ]
  },
  {
   "cell_type": "code",
   "execution_count": null,
   "metadata": {},
   "outputs": [],
   "source": [
    "###############\n",
    "#     Data    #\n",
    "###############\n",
    "infos_df(data)"
   ]
  },
  {
   "cell_type": "code",
   "execution_count": null,
   "metadata": {},
   "outputs": [],
   "source": [
    "###############\n",
    "#   Country   #\n",
    "###############\n",
    "infos_df(country)"
   ]
  },
  {
   "cell_type": "code",
   "execution_count": null,
   "metadata": {},
   "outputs": [],
   "source": [
    "#################\n",
    "#     Series    #\n",
    "#################\n",
    "infos_df(series)"
   ]
  },
  {
   "cell_type": "code",
   "execution_count": null,
   "metadata": {},
   "outputs": [],
   "source": [
    "#########################\n",
    "#     Country-Series    #\n",
    "#########################\n",
    "infos_df(cnt_ser)"
   ]
  },
  {
   "cell_type": "code",
   "execution_count": null,
   "metadata": {},
   "outputs": [],
   "source": [
    "#################\n",
    "#    FootNote   #\n",
    "#################\n",
    "infos_df(footnote)"
   ]
  },
  {
   "cell_type": "markdown",
   "metadata": {},
   "source": [
    "## 2. Vérification de la qualité des données\n",
    "### 2.1 Données dupliquées ou contradictoires\n",
    "#### Noms et codes des pays"
   ]
  },
  {
   "cell_type": "markdown",
   "metadata": {},
   "source": [
    "- Les tables \"Data\" et \"Country\" n'ont pas le même nombre d'entrée uniques pour la colonne \"Country Code\" : la table \"Country\" contient un pays en moins. On cherche à déterminer ce pays :"
   ]
  },
  {
   "cell_type": "code",
   "execution_count": null,
   "metadata": {},
   "outputs": [],
   "source": [
    "# Fonction qui trouve les éléments différents dans deux tableaux (réciproque)\n",
    "\n",
    "def Diff(tab1, tab2):  # le nombre total de différences\n",
    "    tab_dif = [i for i in tab1 + tab2 if i not in tab1 or i not in tab2] \n",
    "    return tab_dif \n",
    "\n",
    "def Diff_bis(tab1, tab2): # compare en détaillant les entrées différentes de tab1, puis de tab2\n",
    "    tab_dif = [i for i in tab1 + tab2 if i not in tab1 or i not in tab2] \n",
    "    return (set(tab1)-set(tab2),set(tab2)-set(tab1))"
   ]
  },
  {
   "cell_type": "code",
   "execution_count": null,
   "metadata": {},
   "outputs": [],
   "source": [
    "pays = Diff(list(data[\"Country Code\"].unique()),list(country[\"Country Code\"].unique()))\n",
    "print(\"Code et nom du pays manquant dans Country : {},{}\"\\\n",
    "  .format(pays,[data[\"Country Name\"][data[\"Country Code\"]==pays[i]].iloc[0] for i in range(len(pays))]))"
   ]
  },
  {
   "cell_type": "markdown",
   "metadata": {},
   "source": [
    "- On souhaite ensuie tester la correspondance bijective entre plusieurs paires de colonnes d'une même table afin de pouvoir répondre à des questions du type :\n",
    "\n",
    "> __Une entrée de 'nom_col1' correspond-elle à une et une seule entrée de la colonne 'nom_col2' dans la table 'df' ?__\n",
    "\n",
    "On crée une fonction pour cela :"
   ]
  },
  {
   "cell_type": "code",
   "execution_count": null,
   "metadata": {},
   "outputs": [],
   "source": [
    "# Fonction comparant la correspondance unique entre les valeurs d'une même ligne de deux colonnes d'une base\n",
    "# (bijection entre les valeurs de col1 et de col2)\n",
    "\n",
    "def Adeq (df, nom_col1,nom_col2):\n",
    "    mon_zip = zip(df[nom_col1], df[nom_col2]) # associe les entrées des deux colonnes en tuples\n",
    "    nbe_comb = len(set(mon_zip)) # retourne les valeurs uniques des tuples\n",
    "    return nbe_comb==df[nom_col1].unique().size # si le nbe est le même que les valeurs uniques, c'est bon\n",
    "\n",
    "# Version très lourde de la même fonction\n",
    "# def Adeq_Col(df, nom_col1,nom_col2): # dans une même base df\n",
    "#     tab = []\n",
    "#     for i in range(len(df[nom_col1].unique())):\n",
    "#         uni_i = df[nom_col1].unique()[i]\n",
    "#         # liste des valeurs de col2 correspondant à la ième valeur unique de col1\n",
    "#         li = df[df[nom_col1]==uni_i][nom_col2]\n",
    "#         temp = 0\n",
    "#         for j in range(len(li)): # comparaison de toutes les valeurs de li une à une\n",
    "#             if li.iloc[j] != li.iloc[0]: # on prend la première valeur (0) comme référence\n",
    "#                 temp+=1\n",
    "#         tab.append(temp)\n",
    "#     return temp # la valeur retournée est le nombre de valeurs différentes"
   ]
  },
  {
   "cell_type": "markdown",
   "metadata": {},
   "source": [
    "Puis on teste les couples de colonnes listés ci-dessous :\n",
    "- Table \"Data\" : \"Country Code\", \"Country Name\"\n",
    "- Table \"Data\" : \"Indicator Code\", \"Indicator Name\"\n",
    "- Table \"Country\" : \"Country Code\", \"Short Name\"\n",
    "- Table \"Country\" : \"Country Code\", \"Table Name\"\n",
    "- Table \"Country\" : \"Country Code\", \"Long Name\"\n",
    "- Table \"Series\" : \"Series Code\", \"Indicator Name\""
   ]
  },
  {
   "cell_type": "code",
   "execution_count": null,
   "metadata": {},
   "outputs": [],
   "source": [
    "print(\"Data : {} {}\"\\\n",
    "      .format(Adeq(data, \"Country Code\", \"Country Name\"), Adeq(data, \"Indicator Code\", \"Indicator Name\")))\n",
    "print(\"Country : {} {} {}\"\\\n",
    "      .format(Adeq(country, \"Country Code\", \"Short Name\"), Adeq(country, \"Country Code\", \"Table Name\"),\\\n",
    "        Adeq(country, \"Country Code\", \"Long Name\")))\n",
    "print(\"Series : {}\".format(Adeq(series, \"Series Code\", \"Indicator Name\")))"
   ]
  },
  {
   "cell_type": "code",
   "execution_count": null,
   "metadata": {},
   "outputs": [],
   "source": []
  },
  {
   "cell_type": "code",
   "execution_count": null,
   "metadata": {},
   "outputs": [],
   "source": []
  },
  {
   "cell_type": "code",
   "execution_count": null,
   "metadata": {},
   "outputs": [],
   "source": []
  },
  {
   "cell_type": "code",
   "execution_count": null,
   "metadata": {},
   "outputs": [],
   "source": []
  },
  {
   "cell_type": "markdown",
   "metadata": {},
   "source": []
  },
  {
   "cell_type": "code",
   "execution_count": null,
   "metadata": {},
   "outputs": [],
   "source": []
  },
  {
   "cell_type": "code",
   "execution_count": null,
   "metadata": {},
   "outputs": [],
   "source": [
    "a = [3,2,1,5,1,6,1]\n",
    "b = ['c','b','a','e','a','u','a']\n",
    "z = zip(a,b)\n",
    "set(z)"
   ]
  },
  {
   "cell_type": "markdown",
   "metadata": {},
   "source": [
    "Y a-t-il la même correspondance entre les codes pays (\"Country Code\") et les noms de pays dans les tables \"Data\" (\"Country Name\") et \"Country\" (\"Table Name\") ?\n",
    "Si oui, on ne gardera qu'une des deux colonnes."
   ]
  },
  {
   "cell_type": "code",
   "execution_count": null,
   "metadata": {},
   "outputs": [],
   "source": [
    "#set(zip(sorted(data[\"Country Name\"].unique()), sorted(country[\"Table Name\"].unique())))\n",
    "data_gb_cnt = data.groupby(\"Country Code\").count() #\"Country Name\""
   ]
  },
  {
   "cell_type": "markdown",
   "metadata": {},
   "source": [
    "##### Noms et codes des indicateurs statistiques"
   ]
  },
  {
   "cell_type": "code",
   "execution_count": null,
   "metadata": {},
   "outputs": [],
   "source": [
    "Il est"
   ]
  },
  {
   "cell_type": "markdown",
   "metadata": {},
   "source": [
    "On remarque que malgré les noms différents, les colonnes \"Indicator Code\" de la table \"Data\" et \"Series Code\" de la table \"Series\" semblent faire référence au même code d'indicateur statistique, et ont, elles aussi, le même nombre d'entrées uniques de 3665.\n",
    "Regardons si les entrées uniques de ces deux colonnes correspondent :"
   ]
  },
  {
   "cell_type": "code",
   "execution_count": null,
   "metadata": {},
   "outputs": [],
   "source": [
    "code = Diff_bis(list(data[\"Indicator Code\"].unique()),list(series[\"Series Code\"].unique()))\n",
    "len(code[0]),len(code[1])"
   ]
  },
  {
   "cell_type": "markdown",
   "metadata": {},
   "source": [
    "53 entrées uniques de la colonne \"Indicator Code\" de la table \"Data\" ne sont pas dans la table \"Series\" et que le même nombre 53 d'entrées uniques de la colonne \"Series Code\" ne sont pas dans la table \"Data\"."
   ]
  },
  {
   "cell_type": "code",
   "execution_count": null,
   "metadata": {},
   "outputs": [],
   "source": [
    "list(code[0])[:2], list(code[1])[:2]"
   ]
  },
  {
   "cell_type": "markdown",
   "metadata": {},
   "source": [
    "On constate que tous les codes différents de la colonne \"Series Code\" (table \"Series\") ont certaines lettres en minuscule.\n",
    "Essayons donc de mettre toutes les entrées en majuscule et de refaire la comparaison."
   ]
  },
  {
   "cell_type": "code",
   "execution_count": null,
   "metadata": {},
   "outputs": [],
   "source": [
    "# pour la table \"Series\"\n",
    "test_series = pd.Series([series[\"Series Code\"][i].upper() for i in range(series[\"Series Code\"].index.size)],\\\n",
    "                 index = series[\"Series Code\"].index)\n",
    "# pour la table \"Data\"\n",
    "test_data = pd.Series([data[\"Indicator Code\"][i].upper() for i in range(data[\"Indicator Code\"].index.size)],\\\n",
    "                 index = data[\"Indicator Code\"].index)\n",
    "\n",
    "code = Diff_bis(list(test_data.unique()),list(test_series.unique()))\n",
    "len(code[0]),len(code[1])"
   ]
  },
  {
   "cell_type": "code",
   "execution_count": null,
   "metadata": {},
   "outputs": [],
   "source": [
    "list(code[0]), list(code[1])"
   ]
  },
  {
   "cell_type": "markdown",
   "metadata": {},
   "source": [
    "La liste ci-dessus montre qu'il faudra également retirer les espaces de la colonne \"Series Code\" de la table \"Series\"."
   ]
  },
  {
   "cell_type": "code",
   "execution_count": null,
   "metadata": {},
   "outputs": [],
   "source": [
    "test_series = pd.Series([test_series.iloc[i].replace(\" \", \"\") for i in range(test_series.index.size)],\\\n",
    "                 index = series[\"Series Code\"].index)"
   ]
  },
  {
   "cell_type": "code",
   "execution_count": null,
   "metadata": {},
   "outputs": [],
   "source": [
    "code = Diff_bis(list(test_data.unique()),list(test_series.unique()))\n",
    "len(code[0]),len(code[1])"
   ]
  },
  {
   "cell_type": "code",
   "execution_count": null,
   "metadata": {},
   "outputs": [],
   "source": []
  },
  {
   "cell_type": "markdown",
   "metadata": {},
   "source": [
    "On remarque par ailleurs que les colonnes \"Indicator Name\" des tables \"Data\" et \"Series\" ont le même nombre d'entrées uniques (3665). Vérifions si ces entrées uniques correspondent :"
   ]
  },
  {
   "cell_type": "code",
   "execution_count": null,
   "metadata": {},
   "outputs": [],
   "source": [
    "indic = Diff_bis(list(data[\"Indicator Name\"].unique()),list(series[\"Indicator Name\"].unique()))\n",
    "len(indic[0]), len(indic[1])"
   ]
  },
  {
   "cell_type": "markdown",
   "metadata": {},
   "source": [
    "On remarque que 462 entrées uniques de la colonne \"Indicator Name\" de la table \"data\" ne sont pas dans la table \"series\" et que le même nombre 462 d'entrées uniques de la même colonne de la table \"series\" ne sont pas dans la table \"data\".\n",
    "\n",
    "Cela pourrait-il indiquer qu'il s'agirait des mêmes entrées qui ne présentent que de petites variations d'écriture, comme c'est le cas pour les deux entrées ci-dessous ?"
   ]
  },
  {
   "cell_type": "code",
   "execution_count": null,
   "metadata": {},
   "outputs": [],
   "source": [
    "indic = Diff_bis(list(data[\"Indicator Code\"].unique()),list(series[\"Series Code\"].unique()))\n",
    "len(indic[0]), len(indic[1])"
   ]
  },
  {
   "cell_type": "code",
   "execution_count": null,
   "metadata": {},
   "outputs": [],
   "source": [
    "list(indic[0])[7],list(indic[1])[8]"
   ]
  },
  {
   "cell_type": "code",
   "execution_count": null,
   "metadata": {},
   "outputs": [],
   "source": [
    "a = data[\"Indicator Code\"][data[\"Indicator Name\"]=='SABER: (School Autonomy Accountability) Policy Goal 2: Level of autonomy in personnel management'].iloc[0:3]\n",
    "b = series[\"Series Code\"][series[\"Indicator Name\"]=='SABER: (School Autonomy and Accountability) Policy Goal 2: Level of autonomy in personnel management']\n",
    "a,b"
   ]
  },
  {
   "cell_type": "markdown",
   "metadata": {},
   "source": [
    "#### Colonnes de la table \"CountrySeries\" et \"FootNote\""
   ]
  },
  {
   "cell_type": "markdown",
   "metadata": {},
   "source": [
    "Les entrées des colonnes \"CountryCode\" et \"SeriesCode\" des tables \"CountrySeries\" et \"FootNote\" existent-ils dans la liste de référence \"Country Code\" de la table \"Data\" ?"
   ]
  },
  {
   "cell_type": "markdown",
   "metadata": {},
   "source": [
    "Les années de la table \"FootNote\" sont-elles dans les années correspondant aux noms de colonnes de la table \"Data\" ?"
   ]
  },
  {
   "cell_type": "code",
   "execution_count": null,
   "metadata": {},
   "outputs": [],
   "source": [
    "# liste des années de la colonne \"Year\" de la table \"FootNote\"\n",
    "#set(footnote[\"Year\"].unique())\n",
    "footnote[footnote[\"Year\"]=='yr2012']"
   ]
  },
  {
   "cell_type": "markdown",
   "metadata": {},
   "source": [
    "## Exploration de la table \"Data\""
   ]
  },
  {
   "cell_type": "markdown",
   "metadata": {},
   "source": [
    "Les indicateurs qui nous intéressent sont ceux des dernières années.\n",
    "On cherche à savoir :\n",
    "- combien d'indicateurs environ sont disponibles dans les dernières années\n",
    "- quels sont les pays qui ont le plus d'indicateurs disponibles dans les dernières années\n",
    "- quels sont les indicateurs le plus souvent disponible "
   ]
  },
  {
   "cell_type": "code",
   "execution_count": null,
   "metadata": {},
   "outputs": [],
   "source": [
    "# Tableau des nombres d'indicateurs dispo pour chaque pays et chaque année \n",
    "nb_ind_cnt = data.groupby(['Country Name', 'Country Code']).count()"
   ]
  },
  {
   "cell_type": "code",
   "execution_count": null,
   "metadata": {},
   "outputs": [],
   "source": [
    "# Pays ayant un nbe d'indicateur non nul en 2017\n",
    "nb_ind_cnt[nb_ind_cnt['2017']!=0]"
   ]
  },
  {
   "cell_type": "code",
   "execution_count": null,
   "metadata": {},
   "outputs": [],
   "source": [
    "# Nbe de pays ayant un nbe d'indicateur supérieur à n en fonction des années\n",
    "\n",
    "def calc_nb_pay_rens (tab_n):\n",
    "    tab = [ [nb_ind_cnt[nb_ind_cnt[str(i)]>j].index.size for i in years] for j in tab_n ]\n",
    "    res = np.array(tab).T\n",
    "    return res\n",
    "\n",
    "countrys = [nb_ind_cnt.index[i][0] + \" - \" + nb_ind_cnt.index[i][1] for i in range(nb_ind_cnt.index.size)]\n",
    "years = list(range(1970,2018))+list(range(2020,2105,5))\n",
    "tab_n = [0,2,10,50,100, 200, 500]\n",
    "x = years\n",
    "y = calc_nb_pay_rens(tab_n)\n",
    "len(y[:, 1]), len(x)"
   ]
  },
  {
   "cell_type": "code",
   "execution_count": null,
   "metadata": {},
   "outputs": [],
   "source": [
    "fig = plt.figure(figsize = (18,6))\n",
    "\n",
    "colors = [\"#bd5db0\",\"#70a845\",\"#727bcc\",\"#b49242\",\"#cc566c\",\"#4aad92\",\"#ca6037\"]\n",
    "labels = [\"i=\"+str(i) for i in tab_n]\n",
    "\n",
    "plot1 = plt.subplot(1,2,1)\n",
    "[plot1.plot(x, y[:,i], '-o', label = labels[i], color = colors[i]) for i in range(len(tab_n))]\n",
    "plot1.set_ylim(0,250)\n",
    "plot1.legend(loc = 'lower right')\n",
    "plot1.set_xlabel(\"années\", fontsize = 14)\n",
    "plot1.set_ylabel(\"nbe de pays\", fontsize = 14)\n",
    "plot1.set_title(\"Pays ayant plus de i indicateurs\", fontsize = 18, fontweight = 'bold')\n",
    "\n",
    "plot2 = plt.subplot(1,2,2)\n",
    "[plot2.plot(x, y[:,i], '-o', label = labels[i], color = colors[i]) for i in range(len(tab_n))]\n",
    "plot2.set_xlim(1980,2018)\n",
    "plot2.set_ylim(75,250)\n",
    "plot2.legend(loc = 'lower right')\n",
    "plot2.set_xlabel(\"années\", fontsize = 14)\n",
    "plot2.set_ylabel(\"nbe de pays\", fontsize = 14)\n",
    "plot2.set_title(\"Pays ayant plus de i indicateurs (zoom)\", fontsize = 18, fontweight = 'bold')\n",
    "plt.show() "
   ]
  },
  {
   "cell_type": "code",
   "execution_count": null,
   "metadata": {},
   "outputs": [],
   "source": [
    "# Classement des pays en fonction du nombre d'indicateurs disponibles en 2017\n",
    "fig = plt.figure(figsize = (18,6))\n",
    "x = countrys\n",
    "y = nb_ind_cnt['2017']\n",
    "plt.plot(x, y, '-o')\n",
    "plt.\n",
    "plt.show() "
   ]
  },
  {
   "cell_type": "code",
   "execution_count": null,
   "metadata": {},
   "outputs": [],
   "source": [
    "arrays = [[1, 1, 2, 2], ['red', 'blue', 'red', 'blue']]\n",
    "pd.MultiIndex.from_arrays(arrays, names=('number', 'color'))\n",
    "# MultiIndex(levels=[[1, 2], ['blue', 'red']],\n",
    "#            codes=[[0, 0, 1, 1], [1, 0, 1, 0]],\n",
    "#            names=['number', 'color'])"
   ]
  },
  {
   "cell_type": "code",
   "execution_count": null,
   "metadata": {},
   "outputs": [],
   "source": [
    "# Nbe d'indicateurs (sur 3665 = max) dispo par année pour un pays\n",
    "\n",
    "tab = [data_gb_cnt[data_gb_cnt.index=='FRA'][year].values for year in data_gb_cnt.columns[3:].values]\n",
    "fig = plt.figure(figsize = (18,6))\n",
    "x = years\n",
    "y = tab\n",
    "plt.plot(x, y, '-o')\n",
    "plt.show() "
   ]
  },
  {
   "cell_type": "markdown",
   "metadata": {},
   "source": [
    "## Exploration des mots clés dans les noms d'indicateurs"
   ]
  },
  {
   "cell_type": "code",
   "execution_count": null,
   "metadata": {},
   "outputs": [],
   "source": [
    "def contAny (cars, mot):\n",
    "    return any([True if c in cars else False for c in mot])\n",
    "\n",
    "def contAll (cars, mot):\n",
    "    return all([True if c in cars else False for c in mot])\n",
    "\n",
    "def enum_mots_cmpt(li_phrases, nb):\n",
    "    li_mots = \" \".join(li_phrases).split(\" \")\n",
    "    li_mots_net = sorted([mot for mot in li_mots if (mot != '') and not contAll('-)%.(,', mot)])\n",
    "    cpt = Counter(li_mots_net)\n",
    "    return cpt.most_common(nb)\n",
    "\n",
    "# Function that control the color of the words\n",
    "#!!!!!!!!!!!!!!!!!!!!!!!!!!!!!!!!!!!!!!!!!!!!!!!!!!!!!!!!!!!!!!!!!!!!!!!!!!!!!!!!\n",
    "# WARNING: the scope of variables is used to get the value of the \"tone\" variable\n",
    "# I could not find the way to pass it as a parameter of \"random_color_func()\"\n",
    "#!!!!!!!!!!!!!!!!!!!!!!!!!!!!!!!!!!!!!!!!!!!!!!!!!!!!!!!!!!!!!!!!!!!!!!!!!!!!!!!!\n",
    "def random_color_func(word=None, font_size=None, position=None, orientation=None, font_path=None, random_state=None):\n",
    "    h = int(360.0 * tone / 255.0)\n",
    "    s = int(100.0 * 255.0 / 255.0)\n",
    "    l = int(100.0 * float(np.random.randint(70, 120) / 255.0))\n",
    "    return \"hsl({}, {}%, {}%)\".format(h, s, l)\n",
    "tone = 10.0 # define the color of the words"
   ]
  },
  {
   "cell_type": "code",
   "execution_count": null,
   "metadata": {},
   "outputs": [],
   "source": [
    "tab_indic = data[\"Indicator Name\"]\n",
    "enum_mots_cmpt(tab_indic, 5)\n",
    "# I define the dictionary used to produce the wordcloud\n",
    "words = dict()\n",
    "list_pop = [\"in\", \"of, \"\"a\", \"and\", \"Per\", \"by\", \"the\", \"with\", \"to\", \"from\",\\\n",
    "            \"for\", \"who\", \"on\", \"are\"]\n",
    "dict_key = words.keys()\n",
    "[words.pop(w) for w in list_pop if w in dict_key]"
   ]
  },
  {
   "cell_type": "code",
   "execution_count": null,
   "metadata": {},
   "outputs": [],
   "source": [
    "occurences = enum_mots_cmpt(tab_indic, 100)\n",
    "for s in occurences:\n",
    "    words[s[0]] = s[1]"
   ]
  },
  {
   "cell_type": "code",
   "execution_count": null,
   "metadata": {},
   "outputs": [],
   "source": [
    "# UPPER PANEL: WORDCLOUD\n",
    "fig = plt.figure(1, figsize=(18,13))\n",
    "ax1 = fig.add_subplot(2,1,1)\n",
    "wordcloud = WordCloud(width=1000,height=300, background_color='black', max_words=1628,relative_scaling=1,\\\n",
    "                      color_func = random_color_func, normalize_plurals=False)\n",
    "wordcloud.generate_from_frequencies(words)\n",
    "ax1.imshow(wordcloud, interpolation=\"bilinear\")\n",
    "ax1.axis('off')\n",
    "#_____________________________________________\n",
    "# LOWER PANEL: HISTOGRAMS\n",
    "ax2 = fig.add_subplot(2,1,2)\n",
    "y_axis = [i[1] for i in occurences]\n",
    "x_axis = [k for k,i in enumerate(occurences)]\n",
    "x_label = [i[0] for i in occurences]\n",
    "plt.xticks(rotation=85, fontsize = 15)\n",
    "plt.yticks(fontsize = 15)\n",
    "plt.xticks(x_axis, x_label)\n",
    "plt.ylabel(\"Nb. of occurences\", fontsize = 18, labelpad = 10)\n",
    "ax2.bar(x_axis, y_axis, align = 'center', color='g')\n",
    "#_______________________\n",
    "plt.title(\"Keywords popularity\",bbox={'facecolor':'k', 'pad':5},color='w',fontsize = 25)\n",
    "plt.show()"
   ]
  },
  {
   "cell_type": "code",
   "execution_count": null,
   "metadata": {},
   "outputs": [],
   "source": []
  },
  {
   "cell_type": "code",
   "execution_count": null,
   "metadata": {},
   "outputs": [],
   "source": []
  },
  {
   "cell_type": "markdown",
   "metadata": {},
   "source": [
    "## Détection des outliers"
   ]
  },
  {
   "cell_type": "code",
   "execution_count": null,
   "metadata": {},
   "outputs": [],
   "source": [
    "# prend un tableau de valeurs, calcule la moyenne, l'écart type\n",
    "# et renvoie les valeurs au-delà ou en-deça de x fois l'écart type\n",
    "def detOutliers(df,col,x):\n",
    "    moy = df[col].mean()\n",
    "    std = df[col].std()\n",
    "    out_val = [nb for nb in df[col].values if ((nb<moy-(x*std)) or (nb>moy+(x*std)))]\n",
    "    return df[df[col].isin(out_val)]\n",
    "\n",
    "my_tab = [1,3,0,2,5]\n",
    "df = pd.DataFrame({'my_col' : my_tab})\n",
    "\n",
    "tab_df = [detOutliers(df, \"my_col\",x) for x in np.linspace(0,2.5,7)]\n",
    "[plt.plot(df.index, df[\"my_col\"].values,'o-', label = \"x = \"+str(df.index.values)) for df in tab_df]\n",
    "plt.legend()\n",
    "plt.show()"
   ]
  },
  {
   "cell_type": "code",
   "execution_count": null,
   "metadata": {},
   "outputs": [],
   "source": []
  },
  {
   "cell_type": "markdown",
   "metadata": {},
   "source": [
    "## -------------- BROUILLONS -------------"
   ]
  },
  {
   "cell_type": "code",
   "execution_count": null,
   "metadata": {},
   "outputs": [],
   "source": [
    "tab1 = list(['a', 'b', 'c', 'd', 'e'])\n",
    "tab2 = list(['adfc', 'c', 'd', 'e'])\n",
    "\n",
    "list1 = [10, 15, 20, 45, 30, 35, 25]\n",
    "list2 = [25, 40, 35] \n",
    "\n",
    "\n",
    "def Diff(tab1, tab2): \n",
    "    tab_dif = [i for i in tab1 + tab2 if i not in tab1 or i not in tab2] \n",
    "    return tab_dif \n",
    "\n",
    "Diff(list1, list2)\n",
    "(set(tab2)-set(tab1)),(set(tab1)-set(tab2))\n"
   ]
  },
  {
   "cell_type": "code",
   "execution_count": null,
   "metadata": {},
   "outputs": [],
   "source": [
    "## .str.match (s'applique à un index)\n",
    "\n",
    "df = pd.DataFrame([0,1,2,3,4], index = ['a', 'b', 'Unnamed', 'd', 'e'])\n",
    "df = df.T\n",
    "~df.columns.str.match('Unnamed')\n",
    "df.loc[:, [True, False, True]]"
   ]
  },
  {
   "cell_type": "code",
   "execution_count": null,
   "metadata": {},
   "outputs": [],
   "source": [
    "## groupby, merge, join, concat etc.\n",
    "\n",
    "#DataFrame.merge(right, how='inner', on=None, left_on=None, right_on=None, left_index=False,\n",
    "# right_index=False, sort=False, suffixes=('_x', '_y'), copy=True, indicator=False, validate=None)\n",
    "df1 = pd.DataFrame({'lkey': ['foo', 'bar', 'baz', 'foo'], 'value': [1, 2, 3, 1], 'value2': [100, 200, 300, 500]})\n",
    "df2 = pd.DataFrame({'rkey': ['foo', 'bar', 'baz', 'foo'], 'value': [5, 6, 7, 8]})\n",
    "#df1.merge(df2, right_on='rkey')\n",
    "df1.merge(df2, left_on = 'lkey', right_on='rkey')\n",
    "df1.groupby(['value', 'lkey']).count()"
   ]
  },
  {
   "cell_type": "code",
   "execution_count": null,
   "metadata": {},
   "outputs": [],
   "source": []
  },
  {
   "cell_type": "code",
   "execution_count": null,
   "metadata": {},
   "outputs": [],
   "source": []
  },
  {
   "cell_type": "code",
   "execution_count": null,
   "metadata": {},
   "outputs": [],
   "source": []
  },
  {
   "cell_type": "code",
   "execution_count": null,
   "metadata": {},
   "outputs": [],
   "source": []
  }
 ],
 "metadata": {
  "kernelspec": {
   "display_name": "Python 3",
   "language": "python",
   "name": "python3"
  },
  "language_info": {
   "codemirror_mode": {
    "name": "ipython",
    "version": 3
   },
   "file_extension": ".py",
   "mimetype": "text/x-python",
   "name": "python",
   "nbconvert_exporter": "python",
   "pygments_lexer": "ipython3",
   "version": "3.7.0"
  }
 },
 "nbformat": 4,
 "nbformat_minor": 2
}
