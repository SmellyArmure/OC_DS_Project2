{
 "cells": [
  {
   "cell_type": "markdown",
   "metadata": {},
   "source": [
    "# Projet 2 : Analyse des données de systèmes éducatifs\n",
    "\n",
    "## 0. Importations des modules et des données"
   ]
  },
  {
   "cell_type": "code",
   "execution_count": 104,
   "metadata": {},
   "outputs": [],
   "source": [
    "import pandas as pd\n",
    "import numpy as np\n",
    "import seaborn as sns\n",
    "import matplotlib.pyplot as plt\n",
    "% matplotlib inline\n",
    "import re\n",
    "#import scipy.stats as st\n",
    "#import statsmodels.api as sm\n",
    "#from sklearn.datasets import load_iris\n",
    "#iris_df_ori = load_iris()\n",
    "####     A ESSAYER      #######################################################\n",
    "# GRAPHES INTERACTIFS\n",
    "# %matplotlib notebook # ne pas oublier de désactiver l'interctivité (bouton topright)\n",
    "\n",
    "# POUR LES GRAPHIQUES\n",
    "# % matplotlib inline \n",
    "# plt.rcParams['figure.figsize'] = [9.5, 6] # ajuster la taille\n",
    "\n",
    "# POUR DESACTIVER LA TOOLBOX GRAPHES TOP GRANDS\n",
    "# %%javascript\n",
    "# IPython.OutputArea.prototype._should_scroll = function(lines) {\n",
    "#     return false;\n",
    "# }\n"
   ]
  },
  {
   "cell_type": "markdown",
   "metadata": {},
   "source": [
    "L'ensemble des données téléchargées se compose de 5 fichiers .csv et d'un fichier excel comportant 5 onglets.\n",
    "Il semble que l'intégralité des données des fichiers .csv soit reprise dans chacun des onglets du fichier Excel.\n",
    "\n",
    "Dans ce notebook, on appellera \"base de donnée\" l'ensemble des données, et \"table\" chacun des onglets ou fichier .csv correspondant."
   ]
  },
  {
   "cell_type": "code",
   "execution_count": 105,
   "metadata": {},
   "outputs": [],
   "source": [
    "# Utilisé la fonction dropna (colonne nulle) pour éliminer les colonnes fantômes \"Unamed en fin de tableau\"\n",
    "data = pd.read_csv(\"../DONNEES/EdStatsData.csv\").dropna(how='all', axis='columns')\n",
    "country = pd.read_csv(\"../DONNEES/EdStatsCountry.csv\").dropna(how='all', axis='columns')\n",
    "cnt_ser = pd.read_csv(\"../DONNEES/EdStatsCountry-Series.csv\").dropna(how='all', axis='columns')\n",
    "series = pd.read_csv(\"../DONNEES/EdStatsSeries.csv\").dropna(how='all', axis='columns')\n",
    "footnote = pd.read_csv(\"../DONNEES/EdStatsFootNote.csv\").dropna(how='all', axis='columns')"
   ]
  },
  {
   "cell_type": "markdown",
   "metadata": {},
   "source": [
    "## 1. Description globale des 5 tables"
   ]
  },
  {
   "cell_type": "code",
   "execution_count": 106,
   "metadata": {},
   "outputs": [],
   "source": [
    "## Fonction qui extrait les données principales relatives aux colonnes\n",
    "\n",
    "def infos_df (df):\n",
    "    infos = pd.DataFrame(df.dtypes).T.rename(index={0:'Type'}) \n",
    "    infos = infos.append(pd.DataFrame([df[col].size for col in df.columns],index=df.columns)\\\n",
    "                               .T.rename(index={0:'Nbe lignes'}))\n",
    "    infos = infos.append(pd.DataFrame(df.isna().sum()).T.rename(index={0:'Nbe NaN'}))\n",
    "    infos = infos.append(pd.DataFrame(infos.loc[\"Nbe lignes\"]-infos.loc[\"Nbe NaN\"])\\\n",
    "                         .T.rename(index = {0:\"Nbe Entrées\"}))\n",
    "    infos = infos.append(pd.DataFrame(df.isna().sum()/df.shape[0]*100).T.rename(index={0:'% NaN'}))\n",
    "    infos = infos.append(pd.DataFrame([df[col].unique().size for col in df.columns],index=df.columns)\\\n",
    "                               .T.rename(index={0:'Nbe uniques'}))\n",
    "    return infos"
   ]
  },
  {
   "cell_type": "code",
   "execution_count": 107,
   "metadata": {},
   "outputs": [
    {
     "data": {
      "text/html": [
       "<div>\n",
       "<style scoped>\n",
       "    .dataframe tbody tr th:only-of-type {\n",
       "        vertical-align: middle;\n",
       "    }\n",
       "\n",
       "    .dataframe tbody tr th {\n",
       "        vertical-align: top;\n",
       "    }\n",
       "\n",
       "    .dataframe thead th {\n",
       "        text-align: right;\n",
       "    }\n",
       "</style>\n",
       "<table border=\"1\" class=\"dataframe\">\n",
       "  <thead>\n",
       "    <tr style=\"text-align: right;\">\n",
       "      <th></th>\n",
       "      <th>Country Name</th>\n",
       "      <th>Country Code</th>\n",
       "      <th>Indicator Name</th>\n",
       "      <th>Indicator Code</th>\n",
       "      <th>1970</th>\n",
       "      <th>1971</th>\n",
       "      <th>1972</th>\n",
       "      <th>1973</th>\n",
       "      <th>1974</th>\n",
       "      <th>1975</th>\n",
       "      <th>...</th>\n",
       "      <th>2055</th>\n",
       "      <th>2060</th>\n",
       "      <th>2065</th>\n",
       "      <th>2070</th>\n",
       "      <th>2075</th>\n",
       "      <th>2080</th>\n",
       "      <th>2085</th>\n",
       "      <th>2090</th>\n",
       "      <th>2095</th>\n",
       "      <th>2100</th>\n",
       "    </tr>\n",
       "  </thead>\n",
       "  <tbody>\n",
       "    <tr>\n",
       "      <th>Type</th>\n",
       "      <td>object</td>\n",
       "      <td>object</td>\n",
       "      <td>object</td>\n",
       "      <td>object</td>\n",
       "      <td>float64</td>\n",
       "      <td>float64</td>\n",
       "      <td>float64</td>\n",
       "      <td>float64</td>\n",
       "      <td>float64</td>\n",
       "      <td>float64</td>\n",
       "      <td>...</td>\n",
       "      <td>float64</td>\n",
       "      <td>float64</td>\n",
       "      <td>float64</td>\n",
       "      <td>float64</td>\n",
       "      <td>float64</td>\n",
       "      <td>float64</td>\n",
       "      <td>float64</td>\n",
       "      <td>float64</td>\n",
       "      <td>float64</td>\n",
       "      <td>float64</td>\n",
       "    </tr>\n",
       "    <tr>\n",
       "      <th>Nbe lignes</th>\n",
       "      <td>886930</td>\n",
       "      <td>886930</td>\n",
       "      <td>886930</td>\n",
       "      <td>886930</td>\n",
       "      <td>886930</td>\n",
       "      <td>886930</td>\n",
       "      <td>886930</td>\n",
       "      <td>886930</td>\n",
       "      <td>886930</td>\n",
       "      <td>886930</td>\n",
       "      <td>...</td>\n",
       "      <td>886930</td>\n",
       "      <td>886930</td>\n",
       "      <td>886930</td>\n",
       "      <td>886930</td>\n",
       "      <td>886930</td>\n",
       "      <td>886930</td>\n",
       "      <td>886930</td>\n",
       "      <td>886930</td>\n",
       "      <td>886930</td>\n",
       "      <td>886930</td>\n",
       "    </tr>\n",
       "    <tr>\n",
       "      <th>Nbe NaN</th>\n",
       "      <td>0</td>\n",
       "      <td>0</td>\n",
       "      <td>0</td>\n",
       "      <td>0</td>\n",
       "      <td>814642</td>\n",
       "      <td>851393</td>\n",
       "      <td>851311</td>\n",
       "      <td>851385</td>\n",
       "      <td>851200</td>\n",
       "      <td>799624</td>\n",
       "      <td>...</td>\n",
       "      <td>835494</td>\n",
       "      <td>835494</td>\n",
       "      <td>835494</td>\n",
       "      <td>835494</td>\n",
       "      <td>835494</td>\n",
       "      <td>835494</td>\n",
       "      <td>835494</td>\n",
       "      <td>835494</td>\n",
       "      <td>835494</td>\n",
       "      <td>835494</td>\n",
       "    </tr>\n",
       "    <tr>\n",
       "      <th>Nbe Entrées</th>\n",
       "      <td>886930</td>\n",
       "      <td>886930</td>\n",
       "      <td>886930</td>\n",
       "      <td>886930</td>\n",
       "      <td>72288</td>\n",
       "      <td>35537</td>\n",
       "      <td>35619</td>\n",
       "      <td>35545</td>\n",
       "      <td>35730</td>\n",
       "      <td>87306</td>\n",
       "      <td>...</td>\n",
       "      <td>51436</td>\n",
       "      <td>51436</td>\n",
       "      <td>51436</td>\n",
       "      <td>51436</td>\n",
       "      <td>51436</td>\n",
       "      <td>51436</td>\n",
       "      <td>51436</td>\n",
       "      <td>51436</td>\n",
       "      <td>51436</td>\n",
       "      <td>51436</td>\n",
       "    </tr>\n",
       "    <tr>\n",
       "      <th>% NaN</th>\n",
       "      <td>0</td>\n",
       "      <td>0</td>\n",
       "      <td>0</td>\n",
       "      <td>0</td>\n",
       "      <td>91.8496</td>\n",
       "      <td>95.9933</td>\n",
       "      <td>95.984</td>\n",
       "      <td>95.9924</td>\n",
       "      <td>95.9715</td>\n",
       "      <td>90.1564</td>\n",
       "      <td>...</td>\n",
       "      <td>94.2007</td>\n",
       "      <td>94.2007</td>\n",
       "      <td>94.2007</td>\n",
       "      <td>94.2007</td>\n",
       "      <td>94.2007</td>\n",
       "      <td>94.2007</td>\n",
       "      <td>94.2007</td>\n",
       "      <td>94.2007</td>\n",
       "      <td>94.2007</td>\n",
       "      <td>94.2007</td>\n",
       "    </tr>\n",
       "    <tr>\n",
       "      <th>Nbe uniques</th>\n",
       "      <td>242</td>\n",
       "      <td>242</td>\n",
       "      <td>3665</td>\n",
       "      <td>3665</td>\n",
       "      <td>24596</td>\n",
       "      <td>30893</td>\n",
       "      <td>30983</td>\n",
       "      <td>30989</td>\n",
       "      <td>31140</td>\n",
       "      <td>37839</td>\n",
       "      <td>...</td>\n",
       "      <td>8028</td>\n",
       "      <td>7915</td>\n",
       "      <td>7801</td>\n",
       "      <td>7701</td>\n",
       "      <td>7563</td>\n",
       "      <td>7467</td>\n",
       "      <td>7336</td>\n",
       "      <td>7151</td>\n",
       "      <td>7045</td>\n",
       "      <td>6915</td>\n",
       "    </tr>\n",
       "  </tbody>\n",
       "</table>\n",
       "<p>6 rows × 69 columns</p>\n",
       "</div>"
      ],
      "text/plain": [
       "            Country Name Country Code Indicator Name Indicator Code     1970  \\\n",
       "Type              object       object         object         object  float64   \n",
       "Nbe lignes        886930       886930         886930         886930   886930   \n",
       "Nbe NaN                0            0              0              0   814642   \n",
       "Nbe Entrées       886930       886930         886930         886930    72288   \n",
       "% NaN                  0            0              0              0  91.8496   \n",
       "Nbe uniques          242          242           3665           3665    24596   \n",
       "\n",
       "                1971     1972     1973     1974     1975   ...        2055  \\\n",
       "Type         float64  float64  float64  float64  float64   ...     float64   \n",
       "Nbe lignes    886930   886930   886930   886930   886930   ...      886930   \n",
       "Nbe NaN       851393   851311   851385   851200   799624   ...      835494   \n",
       "Nbe Entrées    35537    35619    35545    35730    87306   ...       51436   \n",
       "% NaN        95.9933   95.984  95.9924  95.9715  90.1564   ...     94.2007   \n",
       "Nbe uniques    30893    30983    30989    31140    37839   ...        8028   \n",
       "\n",
       "                2060     2065     2070     2075     2080     2085     2090  \\\n",
       "Type         float64  float64  float64  float64  float64  float64  float64   \n",
       "Nbe lignes    886930   886930   886930   886930   886930   886930   886930   \n",
       "Nbe NaN       835494   835494   835494   835494   835494   835494   835494   \n",
       "Nbe Entrées    51436    51436    51436    51436    51436    51436    51436   \n",
       "% NaN        94.2007  94.2007  94.2007  94.2007  94.2007  94.2007  94.2007   \n",
       "Nbe uniques     7915     7801     7701     7563     7467     7336     7151   \n",
       "\n",
       "                2095     2100  \n",
       "Type         float64  float64  \n",
       "Nbe lignes    886930   886930  \n",
       "Nbe NaN       835494   835494  \n",
       "Nbe Entrées    51436    51436  \n",
       "% NaN        94.2007  94.2007  \n",
       "Nbe uniques     7045     6915  \n",
       "\n",
       "[6 rows x 69 columns]"
      ]
     },
     "execution_count": 107,
     "metadata": {},
     "output_type": "execute_result"
    }
   ],
   "source": [
    "###############\n",
    "#     Data    #\n",
    "###############\n",
    "infos_df(data)"
   ]
  },
  {
   "cell_type": "code",
   "execution_count": 108,
   "metadata": {},
   "outputs": [
    {
     "data": {
      "text/html": [
       "<div>\n",
       "<style scoped>\n",
       "    .dataframe tbody tr th:only-of-type {\n",
       "        vertical-align: middle;\n",
       "    }\n",
       "\n",
       "    .dataframe tbody tr th {\n",
       "        vertical-align: top;\n",
       "    }\n",
       "\n",
       "    .dataframe thead th {\n",
       "        text-align: right;\n",
       "    }\n",
       "</style>\n",
       "<table border=\"1\" class=\"dataframe\">\n",
       "  <thead>\n",
       "    <tr style=\"text-align: right;\">\n",
       "      <th></th>\n",
       "      <th>Country Code</th>\n",
       "      <th>Short Name</th>\n",
       "      <th>Table Name</th>\n",
       "      <th>Long Name</th>\n",
       "      <th>2-alpha code</th>\n",
       "      <th>Currency Unit</th>\n",
       "      <th>Special Notes</th>\n",
       "      <th>Region</th>\n",
       "      <th>Income Group</th>\n",
       "      <th>WB-2 code</th>\n",
       "      <th>...</th>\n",
       "      <th>Government Accounting concept</th>\n",
       "      <th>IMF data dissemination standard</th>\n",
       "      <th>Latest population census</th>\n",
       "      <th>Latest household survey</th>\n",
       "      <th>Source of most recent Income and expenditure data</th>\n",
       "      <th>Vital registration complete</th>\n",
       "      <th>Latest agricultural census</th>\n",
       "      <th>Latest industrial data</th>\n",
       "      <th>Latest trade data</th>\n",
       "      <th>Latest water withdrawal data</th>\n",
       "    </tr>\n",
       "  </thead>\n",
       "  <tbody>\n",
       "    <tr>\n",
       "      <th>Type</th>\n",
       "      <td>object</td>\n",
       "      <td>object</td>\n",
       "      <td>object</td>\n",
       "      <td>object</td>\n",
       "      <td>object</td>\n",
       "      <td>object</td>\n",
       "      <td>object</td>\n",
       "      <td>object</td>\n",
       "      <td>object</td>\n",
       "      <td>object</td>\n",
       "      <td>...</td>\n",
       "      <td>object</td>\n",
       "      <td>object</td>\n",
       "      <td>object</td>\n",
       "      <td>object</td>\n",
       "      <td>object</td>\n",
       "      <td>object</td>\n",
       "      <td>object</td>\n",
       "      <td>float64</td>\n",
       "      <td>float64</td>\n",
       "      <td>object</td>\n",
       "    </tr>\n",
       "    <tr>\n",
       "      <th>Nbe lignes</th>\n",
       "      <td>241</td>\n",
       "      <td>241</td>\n",
       "      <td>241</td>\n",
       "      <td>241</td>\n",
       "      <td>241</td>\n",
       "      <td>241</td>\n",
       "      <td>241</td>\n",
       "      <td>241</td>\n",
       "      <td>241</td>\n",
       "      <td>241</td>\n",
       "      <td>...</td>\n",
       "      <td>241</td>\n",
       "      <td>241</td>\n",
       "      <td>241</td>\n",
       "      <td>241</td>\n",
       "      <td>241</td>\n",
       "      <td>241</td>\n",
       "      <td>241</td>\n",
       "      <td>241</td>\n",
       "      <td>241</td>\n",
       "      <td>241</td>\n",
       "    </tr>\n",
       "    <tr>\n",
       "      <th>Nbe NaN</th>\n",
       "      <td>0</td>\n",
       "      <td>0</td>\n",
       "      <td>0</td>\n",
       "      <td>0</td>\n",
       "      <td>3</td>\n",
       "      <td>26</td>\n",
       "      <td>96</td>\n",
       "      <td>27</td>\n",
       "      <td>27</td>\n",
       "      <td>1</td>\n",
       "      <td>...</td>\n",
       "      <td>80</td>\n",
       "      <td>60</td>\n",
       "      <td>28</td>\n",
       "      <td>100</td>\n",
       "      <td>81</td>\n",
       "      <td>130</td>\n",
       "      <td>99</td>\n",
       "      <td>134</td>\n",
       "      <td>56</td>\n",
       "      <td>62</td>\n",
       "    </tr>\n",
       "    <tr>\n",
       "      <th>Nbe Entrées</th>\n",
       "      <td>241</td>\n",
       "      <td>241</td>\n",
       "      <td>241</td>\n",
       "      <td>241</td>\n",
       "      <td>238</td>\n",
       "      <td>215</td>\n",
       "      <td>145</td>\n",
       "      <td>214</td>\n",
       "      <td>214</td>\n",
       "      <td>240</td>\n",
       "      <td>...</td>\n",
       "      <td>161</td>\n",
       "      <td>181</td>\n",
       "      <td>213</td>\n",
       "      <td>141</td>\n",
       "      <td>160</td>\n",
       "      <td>111</td>\n",
       "      <td>142</td>\n",
       "      <td>107</td>\n",
       "      <td>185</td>\n",
       "      <td>179</td>\n",
       "    </tr>\n",
       "    <tr>\n",
       "      <th>% NaN</th>\n",
       "      <td>0</td>\n",
       "      <td>0</td>\n",
       "      <td>0</td>\n",
       "      <td>0</td>\n",
       "      <td>1.24481</td>\n",
       "      <td>10.7884</td>\n",
       "      <td>39.834</td>\n",
       "      <td>11.2033</td>\n",
       "      <td>11.2033</td>\n",
       "      <td>0.414938</td>\n",
       "      <td>...</td>\n",
       "      <td>33.195</td>\n",
       "      <td>24.8963</td>\n",
       "      <td>11.6183</td>\n",
       "      <td>41.4938</td>\n",
       "      <td>33.61</td>\n",
       "      <td>53.9419</td>\n",
       "      <td>41.0788</td>\n",
       "      <td>55.6017</td>\n",
       "      <td>23.2365</td>\n",
       "      <td>25.7261</td>\n",
       "    </tr>\n",
       "    <tr>\n",
       "      <th>Nbe uniques</th>\n",
       "      <td>241</td>\n",
       "      <td>241</td>\n",
       "      <td>241</td>\n",
       "      <td>241</td>\n",
       "      <td>239</td>\n",
       "      <td>153</td>\n",
       "      <td>132</td>\n",
       "      <td>8</td>\n",
       "      <td>6</td>\n",
       "      <td>241</td>\n",
       "      <td>...</td>\n",
       "      <td>3</td>\n",
       "      <td>3</td>\n",
       "      <td>28</td>\n",
       "      <td>61</td>\n",
       "      <td>76</td>\n",
       "      <td>3</td>\n",
       "      <td>36</td>\n",
       "      <td>12</td>\n",
       "      <td>14</td>\n",
       "      <td>21</td>\n",
       "    </tr>\n",
       "  </tbody>\n",
       "</table>\n",
       "<p>6 rows × 31 columns</p>\n",
       "</div>"
      ],
      "text/plain": [
       "            Country Code Short Name Table Name Long Name 2-alpha code  \\\n",
       "Type              object     object     object    object       object   \n",
       "Nbe lignes           241        241        241       241          241   \n",
       "Nbe NaN                0          0          0         0            3   \n",
       "Nbe Entrées          241        241        241       241          238   \n",
       "% NaN                  0          0          0         0      1.24481   \n",
       "Nbe uniques          241        241        241       241          239   \n",
       "\n",
       "            Currency Unit Special Notes   Region Income Group WB-2 code  \\\n",
       "Type               object        object   object       object    object   \n",
       "Nbe lignes            241           241      241          241       241   \n",
       "Nbe NaN                26            96       27           27         1   \n",
       "Nbe Entrées           215           145      214          214       240   \n",
       "% NaN             10.7884        39.834  11.2033      11.2033  0.414938   \n",
       "Nbe uniques           153           132        8            6       241   \n",
       "\n",
       "                        ...              Government Accounting concept  \\\n",
       "Type                    ...                                     object   \n",
       "Nbe lignes              ...                                        241   \n",
       "Nbe NaN                 ...                                         80   \n",
       "Nbe Entrées             ...                                        161   \n",
       "% NaN                   ...                                     33.195   \n",
       "Nbe uniques             ...                                          3   \n",
       "\n",
       "            IMF data dissemination standard Latest population census  \\\n",
       "Type                                 object                   object   \n",
       "Nbe lignes                              241                      241   \n",
       "Nbe NaN                                  60                       28   \n",
       "Nbe Entrées                             181                      213   \n",
       "% NaN                               24.8963                  11.6183   \n",
       "Nbe uniques                               3                       28   \n",
       "\n",
       "            Latest household survey  \\\n",
       "Type                         object   \n",
       "Nbe lignes                      241   \n",
       "Nbe NaN                         100   \n",
       "Nbe Entrées                     141   \n",
       "% NaN                       41.4938   \n",
       "Nbe uniques                      61   \n",
       "\n",
       "            Source of most recent Income and expenditure data  \\\n",
       "Type                                                   object   \n",
       "Nbe lignes                                                241   \n",
       "Nbe NaN                                                    81   \n",
       "Nbe Entrées                                               160   \n",
       "% NaN                                                   33.61   \n",
       "Nbe uniques                                                76   \n",
       "\n",
       "            Vital registration complete Latest agricultural census  \\\n",
       "Type                             object                     object   \n",
       "Nbe lignes                          241                        241   \n",
       "Nbe NaN                             130                         99   \n",
       "Nbe Entrées                         111                        142   \n",
       "% NaN                           53.9419                    41.0788   \n",
       "Nbe uniques                           3                         36   \n",
       "\n",
       "            Latest industrial data Latest trade data  \\\n",
       "Type                       float64           float64   \n",
       "Nbe lignes                     241               241   \n",
       "Nbe NaN                        134                56   \n",
       "Nbe Entrées                    107               185   \n",
       "% NaN                      55.6017           23.2365   \n",
       "Nbe uniques                     12                14   \n",
       "\n",
       "            Latest water withdrawal data  \n",
       "Type                              object  \n",
       "Nbe lignes                           241  \n",
       "Nbe NaN                               62  \n",
       "Nbe Entrées                          179  \n",
       "% NaN                            25.7261  \n",
       "Nbe uniques                           21  \n",
       "\n",
       "[6 rows x 31 columns]"
      ]
     },
     "execution_count": 108,
     "metadata": {},
     "output_type": "execute_result"
    }
   ],
   "source": [
    "###############\n",
    "#   Country   #\n",
    "###############\n",
    "infos_df(country)"
   ]
  },
  {
   "cell_type": "code",
   "execution_count": 109,
   "metadata": {},
   "outputs": [
    {
     "data": {
      "text/html": [
       "<div>\n",
       "<style scoped>\n",
       "    .dataframe tbody tr th:only-of-type {\n",
       "        vertical-align: middle;\n",
       "    }\n",
       "\n",
       "    .dataframe tbody tr th {\n",
       "        vertical-align: top;\n",
       "    }\n",
       "\n",
       "    .dataframe thead th {\n",
       "        text-align: right;\n",
       "    }\n",
       "</style>\n",
       "<table border=\"1\" class=\"dataframe\">\n",
       "  <thead>\n",
       "    <tr style=\"text-align: right;\">\n",
       "      <th></th>\n",
       "      <th>Series Code</th>\n",
       "      <th>Topic</th>\n",
       "      <th>Indicator Name</th>\n",
       "      <th>Short definition</th>\n",
       "      <th>Long definition</th>\n",
       "      <th>Periodicity</th>\n",
       "      <th>Base Period</th>\n",
       "      <th>Other notes</th>\n",
       "      <th>Aggregation method</th>\n",
       "      <th>Limitations and exceptions</th>\n",
       "      <th>General comments</th>\n",
       "      <th>Source</th>\n",
       "      <th>Statistical concept and methodology</th>\n",
       "      <th>Development relevance</th>\n",
       "      <th>Related source links</th>\n",
       "    </tr>\n",
       "  </thead>\n",
       "  <tbody>\n",
       "    <tr>\n",
       "      <th>Type</th>\n",
       "      <td>object</td>\n",
       "      <td>object</td>\n",
       "      <td>object</td>\n",
       "      <td>object</td>\n",
       "      <td>object</td>\n",
       "      <td>object</td>\n",
       "      <td>object</td>\n",
       "      <td>object</td>\n",
       "      <td>object</td>\n",
       "      <td>object</td>\n",
       "      <td>object</td>\n",
       "      <td>object</td>\n",
       "      <td>object</td>\n",
       "      <td>object</td>\n",
       "      <td>object</td>\n",
       "    </tr>\n",
       "    <tr>\n",
       "      <th>Nbe lignes</th>\n",
       "      <td>3665</td>\n",
       "      <td>3665</td>\n",
       "      <td>3665</td>\n",
       "      <td>3665</td>\n",
       "      <td>3665</td>\n",
       "      <td>3665</td>\n",
       "      <td>3665</td>\n",
       "      <td>3665</td>\n",
       "      <td>3665</td>\n",
       "      <td>3665</td>\n",
       "      <td>3665</td>\n",
       "      <td>3665</td>\n",
       "      <td>3665</td>\n",
       "      <td>3665</td>\n",
       "      <td>3665</td>\n",
       "    </tr>\n",
       "    <tr>\n",
       "      <th>Nbe NaN</th>\n",
       "      <td>0</td>\n",
       "      <td>0</td>\n",
       "      <td>0</td>\n",
       "      <td>1509</td>\n",
       "      <td>0</td>\n",
       "      <td>3566</td>\n",
       "      <td>3351</td>\n",
       "      <td>3113</td>\n",
       "      <td>3618</td>\n",
       "      <td>3651</td>\n",
       "      <td>3651</td>\n",
       "      <td>0</td>\n",
       "      <td>3642</td>\n",
       "      <td>3662</td>\n",
       "      <td>3450</td>\n",
       "    </tr>\n",
       "    <tr>\n",
       "      <th>Nbe Entrées</th>\n",
       "      <td>3665</td>\n",
       "      <td>3665</td>\n",
       "      <td>3665</td>\n",
       "      <td>2156</td>\n",
       "      <td>3665</td>\n",
       "      <td>99</td>\n",
       "      <td>314</td>\n",
       "      <td>552</td>\n",
       "      <td>47</td>\n",
       "      <td>14</td>\n",
       "      <td>14</td>\n",
       "      <td>3665</td>\n",
       "      <td>23</td>\n",
       "      <td>3</td>\n",
       "      <td>215</td>\n",
       "    </tr>\n",
       "    <tr>\n",
       "      <th>% NaN</th>\n",
       "      <td>0</td>\n",
       "      <td>0</td>\n",
       "      <td>0</td>\n",
       "      <td>41.1733</td>\n",
       "      <td>0</td>\n",
       "      <td>97.2988</td>\n",
       "      <td>91.4325</td>\n",
       "      <td>84.9386</td>\n",
       "      <td>98.7176</td>\n",
       "      <td>99.618</td>\n",
       "      <td>99.618</td>\n",
       "      <td>0</td>\n",
       "      <td>99.3724</td>\n",
       "      <td>99.9181</td>\n",
       "      <td>94.1337</td>\n",
       "    </tr>\n",
       "    <tr>\n",
       "      <th>Nbe uniques</th>\n",
       "      <td>3665</td>\n",
       "      <td>37</td>\n",
       "      <td>3665</td>\n",
       "      <td>1170</td>\n",
       "      <td>2060</td>\n",
       "      <td>2</td>\n",
       "      <td>5</td>\n",
       "      <td>15</td>\n",
       "      <td>4</td>\n",
       "      <td>10</td>\n",
       "      <td>9</td>\n",
       "      <td>31</td>\n",
       "      <td>3</td>\n",
       "      <td>2</td>\n",
       "      <td>2</td>\n",
       "    </tr>\n",
       "  </tbody>\n",
       "</table>\n",
       "</div>"
      ],
      "text/plain": [
       "            Series Code   Topic Indicator Name Short definition  \\\n",
       "Type             object  object         object           object   \n",
       "Nbe lignes         3665    3665           3665             3665   \n",
       "Nbe NaN               0       0              0             1509   \n",
       "Nbe Entrées        3665    3665           3665             2156   \n",
       "% NaN                 0       0              0          41.1733   \n",
       "Nbe uniques        3665      37           3665             1170   \n",
       "\n",
       "            Long definition Periodicity Base Period Other notes  \\\n",
       "Type                 object      object      object      object   \n",
       "Nbe lignes             3665        3665        3665        3665   \n",
       "Nbe NaN                   0        3566        3351        3113   \n",
       "Nbe Entrées            3665          99         314         552   \n",
       "% NaN                     0     97.2988     91.4325     84.9386   \n",
       "Nbe uniques            2060           2           5          15   \n",
       "\n",
       "            Aggregation method Limitations and exceptions General comments  \\\n",
       "Type                    object                     object           object   \n",
       "Nbe lignes                3665                       3665             3665   \n",
       "Nbe NaN                   3618                       3651             3651   \n",
       "Nbe Entrées                 47                         14               14   \n",
       "% NaN                  98.7176                     99.618           99.618   \n",
       "Nbe uniques                  4                         10                9   \n",
       "\n",
       "             Source Statistical concept and methodology Development relevance  \\\n",
       "Type         object                              object                object   \n",
       "Nbe lignes     3665                                3665                  3665   \n",
       "Nbe NaN           0                                3642                  3662   \n",
       "Nbe Entrées    3665                                  23                     3   \n",
       "% NaN             0                             99.3724               99.9181   \n",
       "Nbe uniques      31                                   3                     2   \n",
       "\n",
       "            Related source links  \n",
       "Type                      object  \n",
       "Nbe lignes                  3665  \n",
       "Nbe NaN                     3450  \n",
       "Nbe Entrées                  215  \n",
       "% NaN                    94.1337  \n",
       "Nbe uniques                    2  "
      ]
     },
     "execution_count": 109,
     "metadata": {},
     "output_type": "execute_result"
    }
   ],
   "source": [
    "#################\n",
    "#     Series    #\n",
    "#################\n",
    "infos_df(series)"
   ]
  },
  {
   "cell_type": "code",
   "execution_count": 110,
   "metadata": {},
   "outputs": [
    {
     "data": {
      "text/html": [
       "<div>\n",
       "<style scoped>\n",
       "    .dataframe tbody tr th:only-of-type {\n",
       "        vertical-align: middle;\n",
       "    }\n",
       "\n",
       "    .dataframe tbody tr th {\n",
       "        vertical-align: top;\n",
       "    }\n",
       "\n",
       "    .dataframe thead th {\n",
       "        text-align: right;\n",
       "    }\n",
       "</style>\n",
       "<table border=\"1\" class=\"dataframe\">\n",
       "  <thead>\n",
       "    <tr style=\"text-align: right;\">\n",
       "      <th></th>\n",
       "      <th>CountryCode</th>\n",
       "      <th>SeriesCode</th>\n",
       "      <th>DESCRIPTION</th>\n",
       "    </tr>\n",
       "  </thead>\n",
       "  <tbody>\n",
       "    <tr>\n",
       "      <th>Type</th>\n",
       "      <td>object</td>\n",
       "      <td>object</td>\n",
       "      <td>object</td>\n",
       "    </tr>\n",
       "    <tr>\n",
       "      <th>Nbe lignes</th>\n",
       "      <td>613</td>\n",
       "      <td>613</td>\n",
       "      <td>613</td>\n",
       "    </tr>\n",
       "    <tr>\n",
       "      <th>Nbe NaN</th>\n",
       "      <td>0</td>\n",
       "      <td>0</td>\n",
       "      <td>0</td>\n",
       "    </tr>\n",
       "    <tr>\n",
       "      <th>Nbe Entrées</th>\n",
       "      <td>613</td>\n",
       "      <td>613</td>\n",
       "      <td>613</td>\n",
       "    </tr>\n",
       "    <tr>\n",
       "      <th>% NaN</th>\n",
       "      <td>0</td>\n",
       "      <td>0</td>\n",
       "      <td>0</td>\n",
       "    </tr>\n",
       "    <tr>\n",
       "      <th>Nbe uniques</th>\n",
       "      <td>211</td>\n",
       "      <td>21</td>\n",
       "      <td>97</td>\n",
       "    </tr>\n",
       "  </tbody>\n",
       "</table>\n",
       "</div>"
      ],
      "text/plain": [
       "            CountryCode SeriesCode DESCRIPTION\n",
       "Type             object     object      object\n",
       "Nbe lignes          613        613         613\n",
       "Nbe NaN               0          0           0\n",
       "Nbe Entrées         613        613         613\n",
       "% NaN                 0          0           0\n",
       "Nbe uniques         211         21          97"
      ]
     },
     "execution_count": 110,
     "metadata": {},
     "output_type": "execute_result"
    }
   ],
   "source": [
    "#########################\n",
    "#     Country-Series    #\n",
    "#########################\n",
    "infos_df(cnt_ser)"
   ]
  },
  {
   "cell_type": "code",
   "execution_count": 111,
   "metadata": {},
   "outputs": [
    {
     "data": {
      "text/html": [
       "<div>\n",
       "<style scoped>\n",
       "    .dataframe tbody tr th:only-of-type {\n",
       "        vertical-align: middle;\n",
       "    }\n",
       "\n",
       "    .dataframe tbody tr th {\n",
       "        vertical-align: top;\n",
       "    }\n",
       "\n",
       "    .dataframe thead th {\n",
       "        text-align: right;\n",
       "    }\n",
       "</style>\n",
       "<table border=\"1\" class=\"dataframe\">\n",
       "  <thead>\n",
       "    <tr style=\"text-align: right;\">\n",
       "      <th></th>\n",
       "      <th>CountryCode</th>\n",
       "      <th>SeriesCode</th>\n",
       "      <th>Year</th>\n",
       "      <th>DESCRIPTION</th>\n",
       "    </tr>\n",
       "  </thead>\n",
       "  <tbody>\n",
       "    <tr>\n",
       "      <th>Type</th>\n",
       "      <td>object</td>\n",
       "      <td>object</td>\n",
       "      <td>object</td>\n",
       "      <td>object</td>\n",
       "    </tr>\n",
       "    <tr>\n",
       "      <th>Nbe lignes</th>\n",
       "      <td>643638</td>\n",
       "      <td>643638</td>\n",
       "      <td>643638</td>\n",
       "      <td>643638</td>\n",
       "    </tr>\n",
       "    <tr>\n",
       "      <th>Nbe NaN</th>\n",
       "      <td>0</td>\n",
       "      <td>0</td>\n",
       "      <td>0</td>\n",
       "      <td>0</td>\n",
       "    </tr>\n",
       "    <tr>\n",
       "      <th>Nbe Entrées</th>\n",
       "      <td>643638</td>\n",
       "      <td>643638</td>\n",
       "      <td>643638</td>\n",
       "      <td>643638</td>\n",
       "    </tr>\n",
       "    <tr>\n",
       "      <th>% NaN</th>\n",
       "      <td>0</td>\n",
       "      <td>0</td>\n",
       "      <td>0</td>\n",
       "      <td>0</td>\n",
       "    </tr>\n",
       "    <tr>\n",
       "      <th>Nbe uniques</th>\n",
       "      <td>239</td>\n",
       "      <td>1558</td>\n",
       "      <td>56</td>\n",
       "      <td>9102</td>\n",
       "    </tr>\n",
       "  </tbody>\n",
       "</table>\n",
       "</div>"
      ],
      "text/plain": [
       "            CountryCode SeriesCode    Year DESCRIPTION\n",
       "Type             object     object  object      object\n",
       "Nbe lignes       643638     643638  643638      643638\n",
       "Nbe NaN               0          0       0           0\n",
       "Nbe Entrées      643638     643638  643638      643638\n",
       "% NaN                 0          0       0           0\n",
       "Nbe uniques         239       1558      56        9102"
      ]
     },
     "execution_count": 111,
     "metadata": {},
     "output_type": "execute_result"
    }
   ],
   "source": [
    "#################\n",
    "#    FootNote   #\n",
    "#################\n",
    "infos_df(footnote)"
   ]
  },
  {
   "cell_type": "markdown",
   "metadata": {},
   "source": [
    "## 2. Vérification de la qualité des données\n",
    "### 2.1 Données dupliquées ou contradictoires\n",
    "#### Noms et codes des pays"
   ]
  },
  {
   "cell_type": "markdown",
   "metadata": {},
   "source": [
    "- Les tables \"Data\" et \"Country\" n'ont pas le même nombre d'entrée uniques pour la colonne \"Country Code\" : la table \"Country\" contient un pays en moins. On cherche à déterminer ce pays :"
   ]
  },
  {
   "cell_type": "code",
   "execution_count": 112,
   "metadata": {},
   "outputs": [],
   "source": [
    "# Fonction qui trouve les éléments différents dans deux tableaux (réciproque)\n",
    "\n",
    "def Diff(tab1, tab2):  # le nombre total de différences\n",
    "    tab_dif = [i for i in tab1 + tab2 if i not in tab1 or i not in tab2] \n",
    "    return tab_dif \n",
    "\n",
    "def Diff_bis(tab1, tab2): # compare en détaillant les entrées différentes de tab1, puis de tab2\n",
    "    tab_dif = [i for i in tab1 + tab2 if i not in tab1 or i not in tab2] \n",
    "    return (set(tab1)-set(tab2),set(tab2)-set(tab1))"
   ]
  },
  {
   "cell_type": "code",
   "execution_count": 113,
   "metadata": {},
   "outputs": [
    {
     "name": "stdout",
     "output_type": "stream",
     "text": [
      "Code et nom du pays manquant dans Country : ['VGB'],['British Virgin Islands']\n"
     ]
    }
   ],
   "source": [
    "pays = Diff(list(data[\"Country Code\"].unique()),list(country[\"Country Code\"].unique()))\n",
    "print(\"Code et nom du pays manquant dans Country : {},{}\"\\\n",
    "  .format(pays,[data[\"Country Name\"][data[\"Country Code\"]==pays[i]].iloc[0] for i in range(len(pays))]))"
   ]
  },
  {
   "cell_type": "markdown",
   "metadata": {},
   "source": [
    "- On souhaite ensuie tester la correspondance bijective entre plusieurs paires de colonnes d'une même table afin de pouvoir répondre à des questions du type :\n",
    "\n",
    "> __Une entrée de 'nom_col1' correspond-elle à une et une seule entrée de la colonne 'nom_col2' dans la table 'df' ?__\n",
    "\n",
    "On crée une fonction pour cela :"
   ]
  },
  {
   "cell_type": "code",
   "execution_count": 114,
   "metadata": {},
   "outputs": [],
   "source": [
    "# Fonction comparant la correspondance unique entre les valeurs d'une même ligne de deux colonnes d'une base\n",
    "# (bijection entre les valeurs de col1 et de col2)\n",
    "\n",
    "def Adeq (df, nom_col1,nom_col2):\n",
    "    mon_zip = zip(df[nom_col1], df[nom_col2]) # associe les entrées des deux colonnes en tuples\n",
    "    nbe_comb = len(set(mon_zip)) # retourne les valeurs uniques des tuples\n",
    "    return nbe_comb==df[nom_col1].unique().size # si le nbe est le même que les valeurs uniques, c'est bon\n",
    "\n",
    "# Version très lourde de la même fonction\n",
    "# def Adeq_Col(df, nom_col1,nom_col2): # dans une même base df\n",
    "#     tab = []\n",
    "#     for i in range(len(df[nom_col1].unique())):\n",
    "#         uni_i = df[nom_col1].unique()[i]\n",
    "#         # liste des valeurs de col2 correspondant à la ième valeur unique de col1\n",
    "#         li = df[df[nom_col1]==uni_i][nom_col2]\n",
    "#         temp = 0\n",
    "#         for j in range(len(li)): # comparaison de toutes les valeurs de li une à une\n",
    "#             if li.iloc[j] != li.iloc[0]: # on prend la première valeur (0) comme référence\n",
    "#                 temp+=1\n",
    "#         tab.append(temp)\n",
    "#     return temp # la valeur retournée est le nombre de valeurs différentes"
   ]
  },
  {
   "cell_type": "markdown",
   "metadata": {},
   "source": [
    "Puis on teste les couples de colonnes listés ci-dessous :\n",
    "- Table \"Data\" : \"Country Code\", \"Country Name\"\n",
    "- Table \"Data\" : \"Indicator Code\", \"Indicator Name\"\n",
    "- Table \"Country\" : \"Country Code\", \"Short Name\"\n",
    "- Table \"Country\" : \"Country Code\", \"Table Name\"\n",
    "- Table \"Country\" : \"Country Code\", \"Long Name\"\n",
    "- Table \"Series\" : \"Series Code\", \"Indicator Name\""
   ]
  },
  {
   "cell_type": "code",
   "execution_count": 115,
   "metadata": {},
   "outputs": [
    {
     "name": "stdout",
     "output_type": "stream",
     "text": [
      "Data : True True\n",
      "Country : True True True\n",
      "Series : True\n"
     ]
    }
   ],
   "source": [
    "print(\"Data : {} {}\"\\\n",
    "      .format(Adeq(data, \"Country Code\", \"Country Name\"), Adeq(data, \"Indicator Code\", \"Indicator Name\")))\n",
    "print(\"Country : {} {} {}\"\\\n",
    "      .format(Adeq(country, \"Country Code\", \"Short Name\"), Adeq(country, \"Country Code\", \"Table Name\"),\\\n",
    "        Adeq(country, \"Country Code\", \"Long Name\")))\n",
    "print(\"Series : {}\".format(Adeq(series, \"Series Code\", \"Indicator Name\")))"
   ]
  },
  {
   "cell_type": "code",
   "execution_count": null,
   "metadata": {},
   "outputs": [],
   "source": []
  },
  {
   "cell_type": "code",
   "execution_count": null,
   "metadata": {},
   "outputs": [],
   "source": []
  },
  {
   "cell_type": "code",
   "execution_count": null,
   "metadata": {},
   "outputs": [],
   "source": []
  },
  {
   "cell_type": "code",
   "execution_count": null,
   "metadata": {},
   "outputs": [],
   "source": []
  },
  {
   "cell_type": "markdown",
   "metadata": {},
   "source": []
  },
  {
   "cell_type": "code",
   "execution_count": null,
   "metadata": {},
   "outputs": [],
   "source": []
  },
  {
   "cell_type": "code",
   "execution_count": 116,
   "metadata": {},
   "outputs": [
    {
     "data": {
      "text/plain": [
       "{(1, 'a'), (2, 'b'), (3, 'c'), (5, 'e'), (6, 'u')}"
      ]
     },
     "execution_count": 116,
     "metadata": {},
     "output_type": "execute_result"
    }
   ],
   "source": [
    "a = [3,2,1,5,1,6,1]\n",
    "b = ['c','b','a','e','a','u','a']\n",
    "z = zip(a,b)\n",
    "set(z)"
   ]
  },
  {
   "cell_type": "markdown",
   "metadata": {},
   "source": [
    "Y a-t-il la même correspondance entre les codes pays (\"Country Code\") et les noms de pays dans les tables \"Data\" (\"Country Name\") et \"Country\" (\"Table Name\") ?\n",
    "Si oui, on ne gardera qu'une des deux colonnes."
   ]
  },
  {
   "cell_type": "code",
   "execution_count": 148,
   "metadata": {},
   "outputs": [],
   "source": [
    "#set(zip(sorted(data[\"Country Name\"].unique()), sorted(country[\"Table Name\"].unique())))\n",
    "data_gb_cnt = data.groupby(\"Country Code\").count() #\"Country Name\""
   ]
  },
  {
   "cell_type": "code",
   "execution_count": 171,
   "metadata": {},
   "outputs": [
    {
     "ename": "ValueError",
     "evalue": "x and y must be the same size",
     "output_type": "error",
     "traceback": [
      "\u001b[1;31m---------------------------------------------------------------------------\u001b[0m",
      "\u001b[1;31mValueError\u001b[0m                                Traceback (most recent call last)",
      "\u001b[1;32m<ipython-input-171-81b2d3fb9caa>\u001b[0m in \u001b[0;36m<module>\u001b[1;34m()\u001b[0m\n\u001b[0;32m      6\u001b[0m \u001b[0mx\u001b[0m \u001b[1;33m=\u001b[0m \u001b[0mdata_gb_cnt\u001b[0m\u001b[1;33m.\u001b[0m\u001b[0mcolumns\u001b[0m\u001b[1;33m[\u001b[0m\u001b[1;36m2\u001b[0m\u001b[1;33m:\u001b[0m\u001b[1;33m]\u001b[0m\u001b[1;33m.\u001b[0m\u001b[0mvalues\u001b[0m\u001b[1;33m\u001b[0m\u001b[0m\n\u001b[0;32m      7\u001b[0m \u001b[0my\u001b[0m \u001b[1;33m=\u001b[0m \u001b[0mtab\u001b[0m\u001b[1;33m\u001b[0m\u001b[0m\n\u001b[1;32m----> 8\u001b[1;33m \u001b[0mplt\u001b[0m\u001b[1;33m.\u001b[0m\u001b[0mscatter\u001b[0m\u001b[1;33m(\u001b[0m\u001b[0mnp\u001b[0m\u001b[1;33m.\u001b[0m\u001b[0marange\u001b[0m\u001b[1;33m(\u001b[0m\u001b[1;36m1970\u001b[0m\u001b[1;33m,\u001b[0m\u001b[1;36m2017\u001b[0m\u001b[1;33m)\u001b[0m\u001b[1;33m,\u001b[0m \u001b[0my\u001b[0m\u001b[1;33m)\u001b[0m\u001b[1;33m\u001b[0m\u001b[0m\n\u001b[0m\u001b[0;32m      9\u001b[0m \u001b[0mplt\u001b[0m\u001b[1;33m.\u001b[0m\u001b[0mshow\u001b[0m\u001b[1;33m(\u001b[0m\u001b[1;33m)\u001b[0m\u001b[1;33m\u001b[0m\u001b[0m\n",
      "\u001b[1;32mC:\\ProgramData\\Anaconda3\\lib\\site-packages\\matplotlib\\pyplot.py\u001b[0m in \u001b[0;36mscatter\u001b[1;34m(x, y, s, c, marker, cmap, norm, vmin, vmax, alpha, linewidths, verts, edgecolors, hold, data, **kwargs)\u001b[0m\n\u001b[0;32m   3473\u001b[0m                          \u001b[0mvmin\u001b[0m\u001b[1;33m=\u001b[0m\u001b[0mvmin\u001b[0m\u001b[1;33m,\u001b[0m \u001b[0mvmax\u001b[0m\u001b[1;33m=\u001b[0m\u001b[0mvmax\u001b[0m\u001b[1;33m,\u001b[0m \u001b[0malpha\u001b[0m\u001b[1;33m=\u001b[0m\u001b[0malpha\u001b[0m\u001b[1;33m,\u001b[0m\u001b[1;33m\u001b[0m\u001b[0m\n\u001b[0;32m   3474\u001b[0m                          \u001b[0mlinewidths\u001b[0m\u001b[1;33m=\u001b[0m\u001b[0mlinewidths\u001b[0m\u001b[1;33m,\u001b[0m \u001b[0mverts\u001b[0m\u001b[1;33m=\u001b[0m\u001b[0mverts\u001b[0m\u001b[1;33m,\u001b[0m\u001b[1;33m\u001b[0m\u001b[0m\n\u001b[1;32m-> 3475\u001b[1;33m                          edgecolors=edgecolors, data=data, **kwargs)\n\u001b[0m\u001b[0;32m   3476\u001b[0m     \u001b[1;32mfinally\u001b[0m\u001b[1;33m:\u001b[0m\u001b[1;33m\u001b[0m\u001b[0m\n\u001b[0;32m   3477\u001b[0m         \u001b[0max\u001b[0m\u001b[1;33m.\u001b[0m\u001b[0m_hold\u001b[0m \u001b[1;33m=\u001b[0m \u001b[0mwashold\u001b[0m\u001b[1;33m\u001b[0m\u001b[0m\n",
      "\u001b[1;32mC:\\ProgramData\\Anaconda3\\lib\\site-packages\\matplotlib\\__init__.py\u001b[0m in \u001b[0;36minner\u001b[1;34m(ax, *args, **kwargs)\u001b[0m\n\u001b[0;32m   1865\u001b[0m                         \u001b[1;34m\"the Matplotlib list!)\"\u001b[0m \u001b[1;33m%\u001b[0m \u001b[1;33m(\u001b[0m\u001b[0mlabel_namer\u001b[0m\u001b[1;33m,\u001b[0m \u001b[0mfunc\u001b[0m\u001b[1;33m.\u001b[0m\u001b[0m__name__\u001b[0m\u001b[1;33m)\u001b[0m\u001b[1;33m,\u001b[0m\u001b[1;33m\u001b[0m\u001b[0m\n\u001b[0;32m   1866\u001b[0m                         RuntimeWarning, stacklevel=2)\n\u001b[1;32m-> 1867\u001b[1;33m             \u001b[1;32mreturn\u001b[0m \u001b[0mfunc\u001b[0m\u001b[1;33m(\u001b[0m\u001b[0max\u001b[0m\u001b[1;33m,\u001b[0m \u001b[1;33m*\u001b[0m\u001b[0margs\u001b[0m\u001b[1;33m,\u001b[0m \u001b[1;33m**\u001b[0m\u001b[0mkwargs\u001b[0m\u001b[1;33m)\u001b[0m\u001b[1;33m\u001b[0m\u001b[0m\n\u001b[0m\u001b[0;32m   1868\u001b[0m \u001b[1;33m\u001b[0m\u001b[0m\n\u001b[0;32m   1869\u001b[0m         inner.__doc__ = _add_data_doc(inner.__doc__,\n",
      "\u001b[1;32mC:\\ProgramData\\Anaconda3\\lib\\site-packages\\matplotlib\\axes\\_axes.py\u001b[0m in \u001b[0;36mscatter\u001b[1;34m(self, x, y, s, c, marker, cmap, norm, vmin, vmax, alpha, linewidths, verts, edgecolors, **kwargs)\u001b[0m\n\u001b[0;32m   4255\u001b[0m         \u001b[0my\u001b[0m \u001b[1;33m=\u001b[0m \u001b[0mnp\u001b[0m\u001b[1;33m.\u001b[0m\u001b[0mma\u001b[0m\u001b[1;33m.\u001b[0m\u001b[0mravel\u001b[0m\u001b[1;33m(\u001b[0m\u001b[0my\u001b[0m\u001b[1;33m)\u001b[0m\u001b[1;33m\u001b[0m\u001b[0m\n\u001b[0;32m   4256\u001b[0m         \u001b[1;32mif\u001b[0m \u001b[0mx\u001b[0m\u001b[1;33m.\u001b[0m\u001b[0msize\u001b[0m \u001b[1;33m!=\u001b[0m \u001b[0my\u001b[0m\u001b[1;33m.\u001b[0m\u001b[0msize\u001b[0m\u001b[1;33m:\u001b[0m\u001b[1;33m\u001b[0m\u001b[0m\n\u001b[1;32m-> 4257\u001b[1;33m             \u001b[1;32mraise\u001b[0m \u001b[0mValueError\u001b[0m\u001b[1;33m(\u001b[0m\u001b[1;34m\"x and y must be the same size\"\u001b[0m\u001b[1;33m)\u001b[0m\u001b[1;33m\u001b[0m\u001b[0m\n\u001b[0m\u001b[0;32m   4258\u001b[0m \u001b[1;33m\u001b[0m\u001b[0m\n\u001b[0;32m   4259\u001b[0m         \u001b[1;32mif\u001b[0m \u001b[0ms\u001b[0m \u001b[1;32mis\u001b[0m \u001b[1;32mNone\u001b[0m\u001b[1;33m:\u001b[0m\u001b[1;33m\u001b[0m\u001b[0m\n",
      "\u001b[1;31mValueError\u001b[0m: x and y must be the same size"
     ]
    },
    {
     "data": {
      "image/png": "[encoded data removed]",
      "text/plain": [
       "<Figure size 1296x432 with 1 Axes>"
      ]
     },
     "metadata": {
      "needs_background": "light"
     },
     "output_type": "display_data"
    }
   ],
   "source": [
    "# nbe d'indicateur (sur 3665 = max) dispo par année pour la France\n",
    "\n",
    "tab = [data_gb_cnt[data_gb_cnt.index=='FRA'][year].values for year in data_gb_cnt.columns[2:].values]\n",
    "\n",
    "fig = plt.figure(figsize = (18,6))\n",
    "x = data_gb_cnt.columns[2:].values\n",
    "y = tab\n",
    "plt.scatter(np.arange(1970,2017), y)\n",
    "plt.show() "
   ]
  },
  {
   "cell_type": "code",
   "execution_count": 161,
   "metadata": {},
   "outputs": [
    {
     "data": {
      "text/plain": [
       "array(['Indicator Code', '1970', '1971', '1972', '1973', '1974', '1975',\n",
       "       '1976', '1977', '1978', '1979', '1980', '1981', '1982', '1983',\n",
       "       '1984', '1985', '1986', '1987', '1988', '1989', '1990', '1991',\n",
       "       '1992', '1993', '1994', '1995', '1996', '1997', '1998', '1999',\n",
       "       '2000', '2001', '2002', '2003', '2004', '2005', '2006', '2007',\n",
       "       '2008', '2009', '2010', '2011', '2012', '2013', '2014', '2015',\n",
       "       '2016', '2017', '2020', '2025', '2030', '2035', '2040', '2045',\n",
       "       '2050', '2055', '2060', '2065', '2070', '2075', '2080', '2085',\n",
       "       '2090', '2095', '2100'], dtype=object)"
      ]
     },
     "execution_count": 161,
     "metadata": {},
     "output_type": "execute_result"
    }
   ],
   "source": [
    "data_gb_cnt.columns[2:].values"
   ]
  },
  {
   "cell_type": "code",
   "execution_count": null,
   "metadata": {},
   "outputs": [],
   "source": [
    "\n",
    "\n"
   ]
  },
  {
   "cell_type": "markdown",
   "metadata": {},
   "source": [
    "##### Noms et codes des indicateurs statistiques"
   ]
  },
  {
   "cell_type": "code",
   "execution_count": null,
   "metadata": {},
   "outputs": [],
   "source": [
    "Il est"
   ]
  },
  {
   "cell_type": "markdown",
   "metadata": {},
   "source": [
    "On remarque que malgré les noms différents, les colonnes \"Indicator Code\" de la table \"Data\" et \"Series Code\" de la table \"Series\" semblent faire référence au même code d'indicateur statistique, et ont, elles aussi, le même nombre d'entrées uniques de 3665.\n",
    "Regardons si les entrées uniques de ces deux colonnes correspondent :"
   ]
  },
  {
   "cell_type": "code",
   "execution_count": null,
   "metadata": {},
   "outputs": [],
   "source": [
    "code = Diff_bis(list(data[\"Indicator Code\"].unique()),list(series[\"Series Code\"].unique()))\n",
    "len(code[0]),len(code[1])"
   ]
  },
  {
   "cell_type": "markdown",
   "metadata": {},
   "source": [
    "53 entrées uniques de la colonne \"Indicator Code\" de la table \"Data\" ne sont pas dans la table \"Series\" et que le même nombre 53 d'entrées uniques de la colonne \"Series Code\" ne sont pas dans la table \"Data\"."
   ]
  },
  {
   "cell_type": "code",
   "execution_count": null,
   "metadata": {},
   "outputs": [],
   "source": [
    "list(code[0])[:2], list(code[1])[:2]"
   ]
  },
  {
   "cell_type": "markdown",
   "metadata": {},
   "source": [
    "On constate que tous les codes différents de la colonne \"Series Code\" (table \"Series\") ont certaines lettres en minuscule.\n",
    "Essayons donc de mettre toutes les entrées en majuscule et de refaire la comparaison."
   ]
  },
  {
   "cell_type": "code",
   "execution_count": null,
   "metadata": {},
   "outputs": [],
   "source": [
    "# pour la table \"Series\"\n",
    "test_series = pd.Series([series[\"Series Code\"][i].upper() for i in range(series[\"Series Code\"].index.size)],\\\n",
    "                 index = series[\"Series Code\"].index)\n",
    "# pour la table \"Data\"\n",
    "test_data = pd.Series([data[\"Indicator Code\"][i].upper() for i in range(data[\"Indicator Code\"].index.size)],\\\n",
    "                 index = data[\"Indicator Code\"].index)\n",
    "\n",
    "code = Diff_bis(list(test_data.unique()),list(test_series.unique()))\n",
    "len(code[0]),len(code[1])"
   ]
  },
  {
   "cell_type": "code",
   "execution_count": null,
   "metadata": {},
   "outputs": [],
   "source": [
    "list(code[0]), list(code[1])"
   ]
  },
  {
   "cell_type": "markdown",
   "metadata": {},
   "source": [
    "La liste ci-dessus montre qu'il faudra également retirer les espaces de la colonne \"Series Code\" de la table \"Series\"."
   ]
  },
  {
   "cell_type": "code",
   "execution_count": null,
   "metadata": {},
   "outputs": [],
   "source": [
    "test_series = pd.Series([test_series.iloc[i].replace(\" \", \"\") for i in range(test_series.index.size)],\\\n",
    "                 index = series[\"Series Code\"].index)"
   ]
  },
  {
   "cell_type": "code",
   "execution_count": null,
   "metadata": {},
   "outputs": [],
   "source": [
    "code = Diff_bis(list(test_data.unique()),list(test_series.unique()))\n",
    "len(code[0]),len(code[1])"
   ]
  },
  {
   "cell_type": "code",
   "execution_count": null,
   "metadata": {},
   "outputs": [],
   "source": []
  },
  {
   "cell_type": "markdown",
   "metadata": {},
   "source": [
    "On remarque par ailleurs que les colonnes \"Indicator Name\" des tables \"Data\" et \"Series\" ont le même nombre d'entrées uniques (3665). Vérifions si ces entrées uniques correspondent :"
   ]
  },
  {
   "cell_type": "code",
   "execution_count": null,
   "metadata": {},
   "outputs": [],
   "source": [
    "indic = Diff_bis(list(data[\"Indicator Name\"].unique()),list(series[\"Indicator Name\"].unique()))\n",
    "len(indic[0]), len(indic[1])"
   ]
  },
  {
   "cell_type": "markdown",
   "metadata": {},
   "source": [
    "On remarque que 462 entrées uniques de la colonne \"Indicator Name\" de la table \"data\" ne sont pas dans la table \"series\" et que le même nombre 462 d'entrées uniques de la même colonne de la table \"series\" ne sont pas dans la table \"data\".\n",
    "\n",
    "Cela pourrait-il indiquer qu'il s'agirait des mêmes entrées qui ne présentent que de petites variations d'écriture, comme c'est le cas pour les deux entrées ci-dessous ?"
   ]
  },
  {
   "cell_type": "code",
   "execution_count": null,
   "metadata": {},
   "outputs": [],
   "source": [
    "indic = Diff_bis(list(data[\"Indicator Code\"].unique()),list(series[\"Series Code\"].unique()))\n",
    "len(indic[0]), len(indic[1])"
   ]
  },
  {
   "cell_type": "code",
   "execution_count": null,
   "metadata": {},
   "outputs": [],
   "source": [
    "list(indic[0])[7],list(indic[1])[8]"
   ]
  },
  {
   "cell_type": "code",
   "execution_count": null,
   "metadata": {},
   "outputs": [],
   "source": [
    "a = data[\"Indicator Code\"][data[\"Indicator Name\"]=='SABER: (School Autonomy Accountability) Policy Goal 2: Level of autonomy in personnel management'].iloc[0:3]\n",
    "b = series[\"Series Code\"][series[\"Indicator Name\"]=='SABER: (School Autonomy and Accountability) Policy Goal 2: Level of autonomy in personnel management']\n",
    "a,b"
   ]
  },
  {
   "cell_type": "markdown",
   "metadata": {},
   "source": [
    "#### Colonnes de la table \"CountrySeries\" et \"FootNote\""
   ]
  },
  {
   "cell_type": "markdown",
   "metadata": {},
   "source": [
    "Les entrées des colonnes \"CountryCode\" et \"SeriesCode\" des tables \"CountrySeries\" et \"FootNote\" existent-ils dans la liste de référence \"Country Code\" de la table \"Data\" ?"
   ]
  },
  {
   "cell_type": "markdown",
   "metadata": {},
   "source": [
    "Les années de la table \"FootNote\" sont-elles dans les années correspondant aux noms de colonnes de la table \"Data\" ?"
   ]
  },
  {
   "cell_type": "code",
   "execution_count": null,
   "metadata": {},
   "outputs": [],
   "source": [
    "# liste des années de la colonne \"Year\" de la table \"FootNote\"\n",
    "#set(footnote[\"Year\"].unique())\n",
    "footnote[footnote[\"Year\"]=='yr2012']"
   ]
  },
  {
   "cell_type": "code",
   "execution_count": null,
   "metadata": {},
   "outputs": [],
   "source": []
  },
  {
   "cell_type": "code",
   "execution_count": null,
   "metadata": {},
   "outputs": [],
   "source": [
    "tab1 = list(['a', 'b', 'c', 'd', 'e'])\n",
    "tab2 = list(['adfc', 'c', 'd', 'e'])\n",
    "\n",
    "list1 = [10, 15, 20, 45, 30, 35, 25]\n",
    "list2 = [25, 40, 35] \n",
    "\n",
    "\n",
    "def Diff(tab1, tab2): \n",
    "    tab_dif = [i for i in tab1 + tab2 if i not in tab1 or i not in tab2] \n",
    "    return tab_dif \n",
    "\n",
    "Diff(list1, list2)\n",
    "(set(tab2)-set(tab1)),(set(tab1)-set(tab2))\n"
   ]
  },
  {
   "cell_type": "code",
   "execution_count": null,
   "metadata": {},
   "outputs": [],
   "source": [
    "# extrait, transpose et renomme la ligne\n",
    "infos_df = pd.DataFrame(data.dtypes).T.rename(index={0:'Type'}) \n",
    "infos_df = infos_df.append(pd.DataFrame(data.isna().sum()).T.rename(index={0:'Nbe NaN'}))\n",
    "infos_df = infos_df.append(pd.DataFrame(data.isna().sum()/data.shape[0]*100).T.rename(index={0:'% NaN'}))\n",
    "infos_df = infos_df.append(pd.DataFrame([data[col].unique().size for col in data.columns],index=data.columns)\\\n",
    "                           .T.rename(index={0:'Nbe uniques'}))\n",
    "infos_df = infos_df.append(pd.DataFrame([data[col].size for col in data.columns],index=data.columns)\\\n",
    "                           .T.rename(index={0:'Nbe lignes'}))"
   ]
  },
  {
   "cell_type": "code",
   "execution_count": null,
   "metadata": {},
   "outputs": [],
   "source": [
    "tab = ['a', 'b', 'c', 'd', 'e']\n",
    "[tab[i+1] for i in range(5) if tab[i]=='d'][0]"
   ]
  },
  {
   "cell_type": "code",
   "execution_count": null,
   "metadata": {},
   "outputs": [],
   "source": [
    "############DATA\n",
    "# colonnes\n",
    "print(\"L'onglet Data a {} lignes et {} colonnes, qui sont : \".format(data.index.size, data.columns.size))\n",
    "print(\"{} : \".format(data.columns))\n",
    "# nbe valeurs uniques \n",
    "print(\"Les 4 premières colonnes qui sont {} : \"\\\n",
    "      .format(list(data.columns[:4])))\n",
    "print(\"prennent respectivement {} valeurs uniques.\"\\\n",
    "      .format([data[col].unique().size for col in data.columns[:4]]))\n",
    "print(\"---------------------------------------------\")\n",
    "#########COUNTRY\n",
    "# colonnes\n",
    "print(\"L'onglet Country a {} lignes et {} colonnes, qui sont : {}\"\\\n",
    "      .format(country.index.size, country.columns.size, list(country.columns)))\n",
    "# nbe valeurs uniques \n",
    "print(\"prennent respectivement {} valeurs uniques.\"\\\n",
    "      .format([country[col].unique().size for col in country.columns]))\n",
    "print(\"---------------------------------------------\")\n",
    "########SERIES\n",
    "# colonnes\n",
    "print(\"L'onglet Series a {} lignes et {} colonnes, qui sont : {}\"\\\n",
    "      .format(series.index.size, series.columns.size, list(series.columns)))\n",
    "# nbe valeurs uniques \n",
    "print(\"prennent respectivement {} valeurs uniques.\"\\\n",
    "      .format([series[col].unique().size for col in series.columns]))\n",
    "print(\"---------------------------------------------\")\n",
    "###########COUNTRY-SERIES\n",
    "# colonnes\n",
    "print(\"L'onglet Country-Series a {} lignes et {} colonnes, qui sont : {}\"\\\n",
    "      .format(cnt_ser.index.size, cnt_ser.columns.size, list(cnt_ser.columns)))\n",
    "# nbe valeurs uniques \n",
    "print(\"prennent respectivement {} valeurs uniques.\"\\\n",
    "      .format([cnt_ser[col].unique().size for col in cnt_ser.columns]))\n",
    "print(\"---------------------------------------------\")\n",
    "###########FOOTNOTE\n",
    "# colonnes\n",
    "print(\"L'onglet Series a {} lignes et {} colonnes, qui sont : {}\"\\\n",
    "      .format(footnote.index.size, footnote.columns.size, list(footnote.columns)))\n",
    "# nbe valeurs uniques \n",
    "print(\"prennent respectivement {} valeurs uniques.\"\\\n",
    "      .format([footnote[col].unique().size for col in footnote.columns]))"
   ]
  },
  {
   "cell_type": "code",
   "execution_count": null,
   "metadata": {},
   "outputs": [],
   "source": [
    "df = pd.DataFrame([0,1,2,3,4], index = ['a', 'b', 'Unnamed', 'd', 'e'])\n",
    "df = df.T\n",
    "~df.columns.str.match('Unnamed')\n",
    "df.loc[:, [True, False, True]]"
   ]
  },
  {
   "cell_type": "code",
   "execution_count": null,
   "metadata": {},
   "outputs": [],
   "source": [
    "ser1 = pd.Series(data = [1,2,3,4,5], name = 'id')\n",
    "ser2 = pd.Series (['NaN',500,100,'NaN',100], name = 'num')\n",
    "dfA = pd.DataFrame({'id1' : [1,2,3,4,5], 'num1' : [100,500,200,400,'NaN']})\n",
    "dfB = pd.DataFrame({'id1' : [10,20,30,40,50], 'num1' : [101,501,201,401,'NaN']})\n",
    "dfC = pd.concat(dfA, dfB)\n",
    "dfC"
   ]
  },
  {
   "cell_type": "code",
   "execution_count": null,
   "metadata": {},
   "outputs": [],
   "source": [
    "#DataFrame.merge(right, how='inner', on=None, left_on=None, right_on=None, left_index=False,\n",
    "# right_index=False, sort=False, suffixes=('_x', '_y'), copy=True, indicator=False, validate=None)\n",
    "df1 = pd.DataFrame({'lkey': ['foo', 'bar', 'baz', 'foo'], 'value': [1, 2, 3, 1], 'value2': [100, 200, 300, 500]})\n",
    "df2 = pd.DataFrame({'rkey': ['foo', 'bar', 'baz', 'foo'], 'value': [5, 6, 7, 8]})"
   ]
  },
  {
   "cell_type": "code",
   "execution_count": null,
   "metadata": {},
   "outputs": [],
   "source": [
    "#df1.merge(df2, right_on='rkey')\n",
    "df1.merge(df2, left_on = 'lkey', right_on='rkey')"
   ]
  },
  {
   "cell_type": "code",
   "execution_count": null,
   "metadata": {},
   "outputs": [],
   "source": [
    "df1.groupby(['value', 'lkey']).count()"
   ]
  },
  {
   "cell_type": "code",
   "execution_count": null,
   "metadata": {},
   "outputs": [],
   "source": []
  },
  {
   "cell_type": "code",
   "execution_count": null,
   "metadata": {},
   "outputs": [],
   "source": []
  }
 ],
 "metadata": {
  "kernelspec": {
   "display_name": "Python 3",
   "language": "python",
   "name": "python3"
  },
  "language_info": {
   "codemirror_mode": {
    "name": "ipython",
    "version": 3
   },
   "file_extension": ".py",
   "mimetype": "text/x-python",
   "name": "python",
   "nbconvert_exporter": "python",
   "pygments_lexer": "ipython3",
   "version": "3.7.0"
  }
 },
 "nbformat": 4,
 "nbformat_minor": 2
}
